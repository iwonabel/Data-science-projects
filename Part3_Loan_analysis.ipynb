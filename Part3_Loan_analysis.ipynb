{
 "cells": [
  {
   "cell_type": "markdown",
   "metadata": {},
   "source": [
    "## 3. Feature Engineering"
   ]
  },
  {
   "cell_type": "markdown",
   "metadata": {},
   "source": [
    "In Part 1 and Part 2, the following features have been already generated:\n",
    "\n",
    "1. fico_average \n",
    "2. FICO_Score_group\n",
    "3. term (converted into numerical variable)\n",
    "4. emp_length (removed string value, converted into numerical variable)\n",
    "5. credit_policy\n",
    "6. credit_age\n",
    "7. as_annual_inc_outlier\n",
    "8. as_loan_amnt_outlier\n",
    "9. loan_amnt_bin"
   ]
  },
  {
   "cell_type": "code",
   "execution_count": 291,
   "metadata": {},
   "outputs": [],
   "source": [
    "import numpy as np # linear algebra\n",
    "import pandas as pd # data processing, CSV file I/O (e.g. pd.read_csv)\n",
    "import seaborn as sns\n",
    "#importing ploting libraries\n",
    "import matplotlib.pyplot as plt\n",
    "#importing seaborn for statistical plots\n",
    "import seaborn as sns\n",
    "#importing ploting libraries\n",
    "import matplotlib.pyplot as plt\n",
    "#styling figures\n",
    "plt.rc('font',size=14)\n",
    "sns.set(style='white')\n",
    "sns.set(style='whitegrid',color_codes=True)\n",
    "#To enable plotting graphs in Jupyter notebook\n",
    "%matplotlib inline\n",
    "#importing the feature scaling library\n",
    "from sklearn.preprocessing import StandardScaler\n",
    "#Import Sklearn package's data splitting function which is based on random function\n",
    "from sklearn.model_selection import train_test_split"
   ]
  },
  {
   "cell_type": "code",
   "execution_count": 223,
   "metadata": {},
   "outputs": [
    {
     "data": {
      "text/html": [
       "<div>\n",
       "<style scoped>\n",
       "    .dataframe tbody tr th:only-of-type {\n",
       "        vertical-align: middle;\n",
       "    }\n",
       "\n",
       "    .dataframe tbody tr th {\n",
       "        vertical-align: top;\n",
       "    }\n",
       "\n",
       "    .dataframe thead th {\n",
       "        text-align: right;\n",
       "    }\n",
       "</style>\n",
       "<table border=\"1\" class=\"dataframe\">\n",
       "  <thead>\n",
       "    <tr style=\"text-align: right;\">\n",
       "      <th></th>\n",
       "      <th>loan_amnt</th>\n",
       "      <th>funded_amnt</th>\n",
       "      <th>term</th>\n",
       "      <th>installment</th>\n",
       "      <th>grade</th>\n",
       "      <th>sub_grade</th>\n",
       "      <th>emp_title</th>\n",
       "      <th>emp_length</th>\n",
       "      <th>home_ownership</th>\n",
       "      <th>annual_inc</th>\n",
       "      <th>...</th>\n",
       "      <th>pub_rec_bankruptcies</th>\n",
       "      <th>debt_settlement_flag</th>\n",
       "      <th>loan_status</th>\n",
       "      <th>credit_policy</th>\n",
       "      <th>fico_average</th>\n",
       "      <th>FICO_Score_group</th>\n",
       "      <th>credit_age</th>\n",
       "      <th>as_annual_inc_outlier</th>\n",
       "      <th>as_loan_amnt_outlier</th>\n",
       "      <th>loan_amnt_bin</th>\n",
       "    </tr>\n",
       "  </thead>\n",
       "  <tbody>\n",
       "    <tr>\n",
       "      <th>0</th>\n",
       "      <td>5000.0</td>\n",
       "      <td>5000.0</td>\n",
       "      <td>36</td>\n",
       "      <td>162.87</td>\n",
       "      <td>B</td>\n",
       "      <td>B2</td>\n",
       "      <td>0</td>\n",
       "      <td>10</td>\n",
       "      <td>RENT</td>\n",
       "      <td>24000.0</td>\n",
       "      <td>...</td>\n",
       "      <td>0.0</td>\n",
       "      <td>N</td>\n",
       "      <td>Fully Paid</td>\n",
       "      <td>1</td>\n",
       "      <td>737.0</td>\n",
       "      <td>Good</td>\n",
       "      <td>9830</td>\n",
       "      <td>0</td>\n",
       "      <td>0</td>\n",
       "      <td>(3000.0, 5000.0]</td>\n",
       "    </tr>\n",
       "    <tr>\n",
       "      <th>1</th>\n",
       "      <td>2500.0</td>\n",
       "      <td>2500.0</td>\n",
       "      <td>60</td>\n",
       "      <td>59.83</td>\n",
       "      <td>C</td>\n",
       "      <td>C4</td>\n",
       "      <td>Ryder</td>\n",
       "      <td>0</td>\n",
       "      <td>RENT</td>\n",
       "      <td>30000.0</td>\n",
       "      <td>...</td>\n",
       "      <td>0.0</td>\n",
       "      <td>N</td>\n",
       "      <td>Charged Off</td>\n",
       "      <td>1</td>\n",
       "      <td>742.0</td>\n",
       "      <td>Very Good</td>\n",
       "      <td>4627</td>\n",
       "      <td>0</td>\n",
       "      <td>0</td>\n",
       "      <td>(499.999, 3000.0]</td>\n",
       "    </tr>\n",
       "    <tr>\n",
       "      <th>2</th>\n",
       "      <td>2400.0</td>\n",
       "      <td>2400.0</td>\n",
       "      <td>36</td>\n",
       "      <td>84.33</td>\n",
       "      <td>C</td>\n",
       "      <td>C5</td>\n",
       "      <td>0</td>\n",
       "      <td>10</td>\n",
       "      <td>RENT</td>\n",
       "      <td>12252.0</td>\n",
       "      <td>...</td>\n",
       "      <td>0.0</td>\n",
       "      <td>N</td>\n",
       "      <td>Fully Paid</td>\n",
       "      <td>1</td>\n",
       "      <td>737.0</td>\n",
       "      <td>Good</td>\n",
       "      <td>3682</td>\n",
       "      <td>0</td>\n",
       "      <td>0</td>\n",
       "      <td>(499.999, 3000.0]</td>\n",
       "    </tr>\n",
       "    <tr>\n",
       "      <th>3</th>\n",
       "      <td>10000.0</td>\n",
       "      <td>10000.0</td>\n",
       "      <td>36</td>\n",
       "      <td>339.31</td>\n",
       "      <td>C</td>\n",
       "      <td>C1</td>\n",
       "      <td>AIR RESOURCES BOARD</td>\n",
       "      <td>10</td>\n",
       "      <td>RENT</td>\n",
       "      <td>49200.0</td>\n",
       "      <td>...</td>\n",
       "      <td>0.0</td>\n",
       "      <td>N</td>\n",
       "      <td>Fully Paid</td>\n",
       "      <td>1</td>\n",
       "      <td>692.0</td>\n",
       "      <td>Good</td>\n",
       "      <td>5782</td>\n",
       "      <td>0</td>\n",
       "      <td>0</td>\n",
       "      <td>(9700.0, 11250.0]</td>\n",
       "    </tr>\n",
       "    <tr>\n",
       "      <th>4</th>\n",
       "      <td>3000.0</td>\n",
       "      <td>3000.0</td>\n",
       "      <td>60</td>\n",
       "      <td>67.79</td>\n",
       "      <td>B</td>\n",
       "      <td>B5</td>\n",
       "      <td>University Medical Group</td>\n",
       "      <td>1</td>\n",
       "      <td>RENT</td>\n",
       "      <td>80000.0</td>\n",
       "      <td>...</td>\n",
       "      <td>0.0</td>\n",
       "      <td>N</td>\n",
       "      <td>Fully Paid</td>\n",
       "      <td>1</td>\n",
       "      <td>697.0</td>\n",
       "      <td>Good</td>\n",
       "      <td>5813</td>\n",
       "      <td>0</td>\n",
       "      <td>0</td>\n",
       "      <td>(499.999, 3000.0]</td>\n",
       "    </tr>\n",
       "  </tbody>\n",
       "</table>\n",
       "<p>5 rows × 38 columns</p>\n",
       "</div>"
      ],
      "text/plain": [
       "   loan_amnt  funded_amnt  term  installment grade sub_grade  \\\n",
       "0     5000.0       5000.0    36       162.87     B        B2   \n",
       "1     2500.0       2500.0    60        59.83     C        C4   \n",
       "2     2400.0       2400.0    36        84.33     C        C5   \n",
       "3    10000.0      10000.0    36       339.31     C        C1   \n",
       "4     3000.0       3000.0    60        67.79     B        B5   \n",
       "\n",
       "                  emp_title  emp_length home_ownership  annual_inc  ...  \\\n",
       "0                         0          10           RENT     24000.0  ...   \n",
       "1                     Ryder           0           RENT     30000.0  ...   \n",
       "2                         0          10           RENT     12252.0  ...   \n",
       "3       AIR RESOURCES BOARD          10           RENT     49200.0  ...   \n",
       "4  University Medical Group           1           RENT     80000.0  ...   \n",
       "\n",
       "  pub_rec_bankruptcies debt_settlement_flag  loan_status credit_policy  \\\n",
       "0                  0.0                    N   Fully Paid             1   \n",
       "1                  0.0                    N  Charged Off             1   \n",
       "2                  0.0                    N   Fully Paid             1   \n",
       "3                  0.0                    N   Fully Paid             1   \n",
       "4                  0.0                    N   Fully Paid             1   \n",
       "\n",
       "  fico_average FICO_Score_group  credit_age  as_annual_inc_outlier  \\\n",
       "0        737.0             Good        9830                      0   \n",
       "1        742.0        Very Good        4627                      0   \n",
       "2        737.0             Good        3682                      0   \n",
       "3        692.0             Good        5782                      0   \n",
       "4        697.0             Good        5813                      0   \n",
       "\n",
       "  as_loan_amnt_outlier      loan_amnt_bin  \n",
       "0                    0   (3000.0, 5000.0]  \n",
       "1                    0  (499.999, 3000.0]  \n",
       "2                    0  (499.999, 3000.0]  \n",
       "3                    0  (9700.0, 11250.0]  \n",
       "4                    0  (499.999, 3000.0]  \n",
       "\n",
       "[5 rows x 38 columns]"
      ]
     },
     "execution_count": 223,
     "metadata": {},
     "output_type": "execute_result"
    }
   ],
   "source": [
    "# Uploading data file\n",
    "filtered_loans = pd.read_csv('./filtered_part_2_Loan_data.csv')\n",
    "filtered_loans.head()"
   ]
  },
  {
   "cell_type": "code",
   "execution_count": 224,
   "metadata": {},
   "outputs": [
    {
     "data": {
      "text/plain": [
       "(42535, 38)"
      ]
     },
     "execution_count": 224,
     "metadata": {},
     "output_type": "execute_result"
    }
   ],
   "source": [
    "filtered_loans.shape"
   ]
  },
  {
   "cell_type": "markdown",
   "metadata": {},
   "source": [
    "#### 10. grade -  converting to numerical"
   ]
  },
  {
   "cell_type": "code",
   "execution_count": 225,
   "metadata": {},
   "outputs": [
    {
     "data": {
      "text/html": [
       "<div>\n",
       "<style scoped>\n",
       "    .dataframe tbody tr th:only-of-type {\n",
       "        vertical-align: middle;\n",
       "    }\n",
       "\n",
       "    .dataframe tbody tr th {\n",
       "        vertical-align: top;\n",
       "    }\n",
       "\n",
       "    .dataframe thead th {\n",
       "        text-align: right;\n",
       "    }\n",
       "</style>\n",
       "<table border=\"1\" class=\"dataframe\">\n",
       "  <thead>\n",
       "    <tr style=\"text-align: right;\">\n",
       "      <th></th>\n",
       "      <th>B</th>\n",
       "      <th>A</th>\n",
       "      <th>C</th>\n",
       "      <th>D</th>\n",
       "      <th>E</th>\n",
       "      <th>F</th>\n",
       "      <th>G</th>\n",
       "    </tr>\n",
       "  </thead>\n",
       "  <tbody>\n",
       "    <tr>\n",
       "      <th>grade</th>\n",
       "      <td>12389</td>\n",
       "      <td>10183</td>\n",
       "      <td>8740</td>\n",
       "      <td>6016</td>\n",
       "      <td>3394</td>\n",
       "      <td>1301</td>\n",
       "      <td>512</td>\n",
       "    </tr>\n",
       "  </tbody>\n",
       "</table>\n",
       "</div>"
      ],
      "text/plain": [
       "           B      A     C     D     E     F    G\n",
       "grade  12389  10183  8740  6016  3394  1301  512"
      ]
     },
     "execution_count": 225,
     "metadata": {},
     "output_type": "execute_result"
    }
   ],
   "source": [
    "grade_count = pd.value_counts(filtered_loans['grade']).to_frame()\n",
    "grade_count.T"
   ]
  },
  {
   "cell_type": "code",
   "execution_count": 226,
   "metadata": {},
   "outputs": [
    {
     "data": {
      "text/plain": [
       "array(['A', 'B', 'C', 'D', 'E', 'F', 'G'], dtype=object)"
      ]
     },
     "execution_count": 226,
     "metadata": {},
     "output_type": "execute_result"
    }
   ],
   "source": [
    "grade = filtered_loans['grade'].unique()\n",
    "grade.sort()\n",
    "grade"
   ]
  },
  {
   "cell_type": "code",
   "execution_count": 227,
   "metadata": {},
   "outputs": [],
   "source": [
    "def categorical_to_numeric(filtered_loans):\n",
    "    for x,e in enumerate(grade):\n",
    "        filtered_loans['grade'].replace(to_replace=e,value=x,inplace=True)"
   ]
  },
  {
   "cell_type": "code",
   "execution_count": 228,
   "metadata": {},
   "outputs": [
    {
     "data": {
      "text/plain": [
       "0    1\n",
       "1    2\n",
       "2    2\n",
       "3    2\n",
       "4    1\n",
       "Name: grade, dtype: int64"
      ]
     },
     "execution_count": 228,
     "metadata": {},
     "output_type": "execute_result"
    }
   ],
   "source": [
    "categorical_to_numeric(filtered_loans)\n",
    "filtered_loans['grade'].head()"
   ]
  },
  {
   "cell_type": "markdown",
   "metadata": {},
   "source": [
    "#### 11. subgrade -  converting to numerical"
   ]
  },
  {
   "cell_type": "code",
   "execution_count": 229,
   "metadata": {},
   "outputs": [
    {
     "data": {
      "text/html": [
       "<div>\n",
       "<style scoped>\n",
       "    .dataframe tbody tr th:only-of-type {\n",
       "        vertical-align: middle;\n",
       "    }\n",
       "\n",
       "    .dataframe tbody tr th {\n",
       "        vertical-align: top;\n",
       "    }\n",
       "\n",
       "    .dataframe thead th {\n",
       "        text-align: right;\n",
       "    }\n",
       "</style>\n",
       "<table border=\"1\" class=\"dataframe\">\n",
       "  <thead>\n",
       "    <tr style=\"text-align: right;\">\n",
       "      <th></th>\n",
       "      <th>B3</th>\n",
       "      <th>A4</th>\n",
       "      <th>B5</th>\n",
       "      <th>A5</th>\n",
       "      <th>B4</th>\n",
       "      <th>C1</th>\n",
       "      <th>C2</th>\n",
       "      <th>B2</th>\n",
       "      <th>B1</th>\n",
       "      <th>A3</th>\n",
       "      <th>...</th>\n",
       "      <th>F1</th>\n",
       "      <th>F2</th>\n",
       "      <th>F3</th>\n",
       "      <th>F4</th>\n",
       "      <th>F5</th>\n",
       "      <th>G1</th>\n",
       "      <th>G2</th>\n",
       "      <th>G4</th>\n",
       "      <th>G5</th>\n",
       "      <th>G3</th>\n",
       "    </tr>\n",
       "  </thead>\n",
       "  <tbody>\n",
       "    <tr>\n",
       "      <th>sub_grade</th>\n",
       "      <td>2997</td>\n",
       "      <td>2905</td>\n",
       "      <td>2807</td>\n",
       "      <td>2793</td>\n",
       "      <td>2590</td>\n",
       "      <td>2264</td>\n",
       "      <td>2157</td>\n",
       "      <td>2113</td>\n",
       "      <td>1882</td>\n",
       "      <td>1823</td>\n",
       "      <td>...</td>\n",
       "      <td>392</td>\n",
       "      <td>308</td>\n",
       "      <td>236</td>\n",
       "      <td>211</td>\n",
       "      <td>154</td>\n",
       "      <td>141</td>\n",
       "      <td>107</td>\n",
       "      <td>99</td>\n",
       "      <td>86</td>\n",
       "      <td>79</td>\n",
       "    </tr>\n",
       "  </tbody>\n",
       "</table>\n",
       "<p>1 rows × 35 columns</p>\n",
       "</div>"
      ],
      "text/plain": [
       "             B3    A4    B5    A5    B4    C1    C2    B2    B1    A3  ...  \\\n",
       "sub_grade  2997  2905  2807  2793  2590  2264  2157  2113  1882  1823  ...   \n",
       "\n",
       "            F1   F2   F3   F4   F5   G1   G2  G4  G5  G3  \n",
       "sub_grade  392  308  236  211  154  141  107  99  86  79  \n",
       "\n",
       "[1 rows x 35 columns]"
      ]
     },
     "execution_count": 229,
     "metadata": {},
     "output_type": "execute_result"
    }
   ],
   "source": [
    "subgrade_count = pd.value_counts(filtered_loans['sub_grade']).to_frame()\n",
    "subgrade_count.T"
   ]
  },
  {
   "cell_type": "code",
   "execution_count": 230,
   "metadata": {},
   "outputs": [
    {
     "data": {
      "text/plain": [
       "array(['A1', 'A2', 'A3', 'A4', 'A5', 'B1', 'B2', 'B3', 'B4', 'B5', 'C1',\n",
       "       'C2', 'C3', 'C4', 'C5', 'D1', 'D2', 'D3', 'D4', 'D5', 'E1', 'E2',\n",
       "       'E3', 'E4', 'E5', 'F1', 'F2', 'F3', 'F4', 'F5', 'G1', 'G2', 'G3',\n",
       "       'G4', 'G5'], dtype=object)"
      ]
     },
     "execution_count": 230,
     "metadata": {},
     "output_type": "execute_result"
    }
   ],
   "source": [
    "subgrade = filtered_loans['sub_grade'].unique()\n",
    "subgrade.sort()\n",
    "subgrade"
   ]
  },
  {
   "cell_type": "code",
   "execution_count": 231,
   "metadata": {},
   "outputs": [],
   "source": [
    "def categorical_to_numeric(filtered_loans):\n",
    "    for x,e in enumerate(subgrade):\n",
    "        filtered_loans['sub_grade'].replace(to_replace=e,value=x,inplace=True)"
   ]
  },
  {
   "cell_type": "code",
   "execution_count": 232,
   "metadata": {},
   "outputs": [
    {
     "data": {
      "text/plain": [
       "0     6\n",
       "1    13\n",
       "2    14\n",
       "3    10\n",
       "4     9\n",
       "Name: sub_grade, dtype: int64"
      ]
     },
     "execution_count": 232,
     "metadata": {},
     "output_type": "execute_result"
    }
   ],
   "source": [
    "categorical_to_numeric(filtered_loans)\n",
    "filtered_loans['sub_grade'].head()"
   ]
  },
  {
   "cell_type": "markdown",
   "metadata": {},
   "source": [
    "#### 12. loan status -  converting to numerical"
   ]
  },
  {
   "cell_type": "code",
   "execution_count": 233,
   "metadata": {},
   "outputs": [
    {
     "data": {
      "text/plain": [
       "array(['Fully Paid', 'Charged Off'], dtype=object)"
      ]
     },
     "execution_count": 233,
     "metadata": {},
     "output_type": "execute_result"
    }
   ],
   "source": [
    "filtered_loans['loan_status'].unique()"
   ]
  },
  {
   "cell_type": "code",
   "execution_count": 234,
   "metadata": {},
   "outputs": [
    {
     "data": {
      "text/plain": [
       "array([1, 0])"
      ]
     },
     "execution_count": 234,
     "metadata": {},
     "output_type": "execute_result"
    }
   ],
   "source": [
    "# Fully Paid loans will be assigend with 1 and Charged Off loans will be 0\n",
    "filtered_loans['loan_status'] = filtered_loans['loan_status'].apply(lambda x:1 if x=='Fully Paid' else 0)\n",
    "filtered_loans['loan_status'].unique()"
   ]
  },
  {
   "cell_type": "markdown",
   "metadata": {},
   "source": [
    "#### 13. FICO_Score_group - converting to numerical"
   ]
  },
  {
   "cell_type": "code",
   "execution_count": 235,
   "metadata": {},
   "outputs": [
    {
     "data": {
      "text/plain": [
       "array(['Exceptional', 'Fair', 'Good', 'Very Good'], dtype=object)"
      ]
     },
     "execution_count": 235,
     "metadata": {},
     "output_type": "execute_result"
    }
   ],
   "source": [
    "fico_groups = filtered_loans['FICO_Score_group'].unique()\n",
    "fico_groups.sort()\n",
    "fico_groups"
   ]
  },
  {
   "cell_type": "code",
   "execution_count": 236,
   "metadata": {},
   "outputs": [],
   "source": [
    "def categorical_to_numeric(filtered_loans):\n",
    "    for x,e in enumerate(fico_groups):\n",
    "        filtered_loans['FICO_Score_group'].replace(to_replace=e,value=x,inplace=True)"
   ]
  },
  {
   "cell_type": "code",
   "execution_count": 237,
   "metadata": {},
   "outputs": [
    {
     "data": {
      "text/plain": [
       "0    2\n",
       "1    3\n",
       "2    2\n",
       "3    2\n",
       "4    2\n",
       "Name: FICO_Score_group, dtype: int64"
      ]
     },
     "execution_count": 237,
     "metadata": {},
     "output_type": "execute_result"
    }
   ],
   "source": [
    "categorical_to_numeric(filtered_loans)\n",
    "filtered_loans['FICO_Score_group'].head()"
   ]
  },
  {
   "cell_type": "markdown",
   "metadata": {},
   "source": [
    "#### 13. addr_state -  binning to geolocalizaiton "
   ]
  },
  {
   "cell_type": "code",
   "execution_count": 238,
   "metadata": {},
   "outputs": [],
   "source": [
    "loans_states = pd.value_counts(filtered_loans['addr_state']).to_frame()"
   ]
  },
  {
   "cell_type": "code",
   "execution_count": null,
   "metadata": {},
   "outputs": [],
   "source": []
  },
  {
   "cell_type": "code",
   "execution_count": 239,
   "metadata": {},
   "outputs": [],
   "source": [
    "#South_state = TX,OK, AR, LA, MS, AL, GA, FL, TN, SC, NC, KY, VA, WV"
   ]
  },
  {
   "cell_type": "code",
   "execution_count": 240,
   "metadata": {},
   "outputs": [],
   "source": [
    "#North_state = CT, IL, IN, IA, ME, MA, MI, MN, NH, NJ, NY, OH, PA, RI, VT, WI"
   ]
  },
  {
   "cell_type": "code",
   "execution_count": 241,
   "metadata": {},
   "outputs": [],
   "source": [
    "#East_state= ME, NH, VT, NY, MA, RI, CT, NJ, PA, DE, MD, DC, MI, OH, IN, IL, WI, WV, VA, NC, TN, KY, SC, GA, AL, MS, FL\n",
    "\n",
    "#West_state=\n",
    "\n",
    "\n"
   ]
  },
  {
   "cell_type": "markdown",
   "metadata": {},
   "source": [
    "#### 14. debt_settlment_flag - convert to numeric"
   ]
  },
  {
   "cell_type": "code",
   "execution_count": 242,
   "metadata": {},
   "outputs": [
    {
     "data": {
      "text/plain": [
       "array(['N', 'Y'], dtype=object)"
      ]
     },
     "execution_count": 242,
     "metadata": {},
     "output_type": "execute_result"
    }
   ],
   "source": [
    "filtered_loans['debt_settlement_flag'].unique()"
   ]
  },
  {
   "cell_type": "code",
   "execution_count": 243,
   "metadata": {},
   "outputs": [
    {
     "data": {
      "text/plain": [
       "array([0, 1])"
      ]
     },
     "execution_count": 243,
     "metadata": {},
     "output_type": "execute_result"
    }
   ],
   "source": [
    "# Fully Paid loans will be assigend with 1 and Charged Off loans will be 0\n",
    "filtered_loans['debt_settlement_flag'] = filtered_loans['debt_settlement_flag'].apply(lambda x:1 if x=='Y' else 0)\n",
    "filtered_loans['debt_settlement_flag'].unique()"
   ]
  },
  {
   "cell_type": "markdown",
   "metadata": {},
   "source": [
    "#### 15. Converting date format to integers"
   ]
  },
  {
   "cell_type": "code",
   "execution_count": 244,
   "metadata": {},
   "outputs": [],
   "source": [
    "# Extracting the year\n",
    "filtered_loans['issue_d']= pd.to_datetime(filtered_loans['issue_d']).apply(lambda x: int(x.strftime('%Y')))\n",
    "filtered_loans['earliest_cr_line']= pd.to_datetime(filtered_loans['earliest_cr_line']).apply(lambda x: int(x.strftime('%Y')))\n",
    "filtered_loans['last_credit_pull_d']= pd.to_datetime(filtered_loans['last_credit_pull_d']).apply(lambda x: int(x.strftime('%Y')))"
   ]
  },
  {
   "cell_type": "markdown",
   "metadata": {},
   "source": [
    "#### 16. Removing outliers in funded amnt and annual inc"
   ]
  },
  {
   "cell_type": "markdown",
   "metadata": {},
   "source": [
    "Outliers will be replaced by median in the following columns: annual_inc, credit_age"
   ]
  },
  {
   "cell_type": "code",
   "execution_count": 246,
   "metadata": {},
   "outputs": [
    {
     "name": "stdout",
     "output_type": "stream",
     "text": [
      "Number of outliers in annual_inc:  341\n",
      "Number of outliers in credit_age:  560\n"
     ]
    }
   ],
   "source": [
    "# Checking the outliers in dataset\n",
    "print('Number of outliers in annual_inc: ',filtered_loans[((filtered_loans.annual_inc - filtered_loans.annual_inc.mean()) / filtered_loans.annual_inc.std()).abs() >3]['annual_inc'].count())\n",
    "print('Number of outliers in credit_age: ',filtered_loans[((filtered_loans.credit_age - filtered_loans.credit_age.mean()) / filtered_loans.credit_age.std()).abs() >3]['credit_age'].count())"
   ]
  },
  {
   "cell_type": "code",
   "execution_count": 247,
   "metadata": {},
   "outputs": [],
   "source": [
    "#Replacing the outliers by median in annual income\n",
    "for col_name in filtered_loans.annual_inc[:-1]:\n",
    "    q1 = filtered_loans['annual_inc'].quantile(0.25)\n",
    "    q3 = filtered_loans['annual_inc'].quantile(0.75)\n",
    "    iqr = q3 - q1\n",
    "    \n",
    "    low = q1-1.5*iqr\n",
    "    high = q3+1.5*iqr\n",
    "    filtered_loans.loc[(filtered_loans['annual_inc'] < low) | (filtered_loans['annual_inc'] > high), ['annual_inc']] = filtered_loans['annual_inc'].median()"
   ]
  },
  {
   "cell_type": "code",
   "execution_count": 248,
   "metadata": {},
   "outputs": [],
   "source": [
    "#Replacing the outliers by median in credit age\n",
    "for col_name in filtered_loans.credit_age[:-1]:\n",
    "    q1 = filtered_loans['credit_age'].quantile(0.25)\n",
    "    q3 = filtered_loans['credit_age'].quantile(0.75)\n",
    "    iqr = q3 - q1\n",
    "    \n",
    "    low = q1-1.5*iqr\n",
    "    high = q3+1.5*iqr\n",
    "    filtered_loans.loc[(filtered_loans['credit_age'] < low) | (filtered_loans['credit_age'] > high), ['credit_age']] = filtered_loans['credit_age'].median()"
   ]
  },
  {
   "cell_type": "code",
   "execution_count": 249,
   "metadata": {},
   "outputs": [
    {
     "name": "stdout",
     "output_type": "stream",
     "text": [
      "Number of outliers in annual_inc:  0\n",
      "Number of outliers in credit_age:  0\n"
     ]
    }
   ],
   "source": [
    "# Checking again the outliers\n",
    "print('Number of outliers in annual_inc: ',filtered_loans[((filtered_loans.annual_inc - filtered_loans.annual_inc.mean()) / filtered_loans.annual_inc.std()).abs() >3]['annual_inc'].count())\n",
    "print('Number of outliers in credit_age: ',filtered_loans[((filtered_loans.credit_age - filtered_loans.credit_age.mean()) / filtered_loans.credit_age.std()).abs() >3]['credit_age'].count())"
   ]
  },
  {
   "cell_type": "markdown",
   "metadata": {},
   "source": [
    "#### 17. Converting bins to numerical values"
   ]
  },
  {
   "cell_type": "code",
   "execution_count": 250,
   "metadata": {},
   "outputs": [
    {
     "name": "stdout",
     "output_type": "stream",
     "text": [
      "['(11250.0, 14000.0]' '(14000.0, 16000.0]' '(16000.0, 22000.0]'\n",
      " '(22000.0, 35000.0]' '(3000.0, 5000.0]' '(499.999, 3000.0]'\n",
      " '(5000.0, 6000.0]' '(6000.0, 7700.0]' '(7700.0, 9700.0]'\n",
      " '(9700.0, 11250.0]']\n"
     ]
    }
   ],
   "source": [
    "# replacing bins with numerical values in loan_amnt_bin\n",
    "loan_amnt_bins = np.array(filtered_loans['loan_amnt_bin'].unique())\n",
    "loan_amnt_bins.sort()\n",
    "print(loan_amnt_bins)"
   ]
  },
  {
   "cell_type": "code",
   "execution_count": 251,
   "metadata": {},
   "outputs": [],
   "source": [
    "filtered_loans['loan_amnt_bin'].replace(['(499.999, 3000.0]', '(3000.0, 5000.0]','(5000.0, 6000.0]', '(6000.0, 7700.0]', '(7700.0, 9700.0]', '(9700.0, 11250.0]','(11250.0, 14000.0]', '(14000.0, 16000.0]', '(16000.0, 22000.0]', '(22000.0, 35000.0]'], [1, 2, 3, 4, 5, 6, 7, 8, 9, 10], inplace = True)"
   ]
  },
  {
   "cell_type": "code",
   "execution_count": 254,
   "metadata": {},
   "outputs": [
    {
     "data": {
      "text/html": [
       "<div>\n",
       "<style scoped>\n",
       "    .dataframe tbody tr th:only-of-type {\n",
       "        vertical-align: middle;\n",
       "    }\n",
       "\n",
       "    .dataframe tbody tr th {\n",
       "        vertical-align: top;\n",
       "    }\n",
       "\n",
       "    .dataframe thead th {\n",
       "        text-align: right;\n",
       "    }\n",
       "</style>\n",
       "<table border=\"1\" class=\"dataframe\">\n",
       "  <thead>\n",
       "    <tr style=\"text-align: right;\">\n",
       "      <th></th>\n",
       "      <th>loan_amnt</th>\n",
       "      <th>funded_amnt</th>\n",
       "      <th>term</th>\n",
       "      <th>installment</th>\n",
       "      <th>grade</th>\n",
       "      <th>sub_grade</th>\n",
       "      <th>emp_title</th>\n",
       "      <th>emp_length</th>\n",
       "      <th>home_ownership</th>\n",
       "      <th>annual_inc</th>\n",
       "      <th>...</th>\n",
       "      <th>pub_rec_bankruptcies</th>\n",
       "      <th>debt_settlement_flag</th>\n",
       "      <th>loan_status</th>\n",
       "      <th>credit_policy</th>\n",
       "      <th>fico_average</th>\n",
       "      <th>FICO_Score_group</th>\n",
       "      <th>credit_age</th>\n",
       "      <th>as_annual_inc_outlier</th>\n",
       "      <th>as_loan_amnt_outlier</th>\n",
       "      <th>loan_amnt_bin</th>\n",
       "    </tr>\n",
       "  </thead>\n",
       "  <tbody>\n",
       "    <tr>\n",
       "      <th>0</th>\n",
       "      <td>5000.0</td>\n",
       "      <td>5000.0</td>\n",
       "      <td>36</td>\n",
       "      <td>162.87</td>\n",
       "      <td>1</td>\n",
       "      <td>6</td>\n",
       "      <td>0</td>\n",
       "      <td>10</td>\n",
       "      <td>RENT</td>\n",
       "      <td>24000.0</td>\n",
       "      <td>...</td>\n",
       "      <td>0.0</td>\n",
       "      <td>0</td>\n",
       "      <td>1</td>\n",
       "      <td>1</td>\n",
       "      <td>737.0</td>\n",
       "      <td>2</td>\n",
       "      <td>4564.0</td>\n",
       "      <td>0</td>\n",
       "      <td>0</td>\n",
       "      <td>2</td>\n",
       "    </tr>\n",
       "    <tr>\n",
       "      <th>1</th>\n",
       "      <td>2500.0</td>\n",
       "      <td>2500.0</td>\n",
       "      <td>60</td>\n",
       "      <td>59.83</td>\n",
       "      <td>2</td>\n",
       "      <td>13</td>\n",
       "      <td>Ryder</td>\n",
       "      <td>0</td>\n",
       "      <td>RENT</td>\n",
       "      <td>30000.0</td>\n",
       "      <td>...</td>\n",
       "      <td>0.0</td>\n",
       "      <td>0</td>\n",
       "      <td>0</td>\n",
       "      <td>1</td>\n",
       "      <td>742.0</td>\n",
       "      <td>3</td>\n",
       "      <td>4627.0</td>\n",
       "      <td>0</td>\n",
       "      <td>0</td>\n",
       "      <td>1</td>\n",
       "    </tr>\n",
       "    <tr>\n",
       "      <th>2</th>\n",
       "      <td>2400.0</td>\n",
       "      <td>2400.0</td>\n",
       "      <td>36</td>\n",
       "      <td>84.33</td>\n",
       "      <td>2</td>\n",
       "      <td>14</td>\n",
       "      <td>0</td>\n",
       "      <td>10</td>\n",
       "      <td>RENT</td>\n",
       "      <td>12252.0</td>\n",
       "      <td>...</td>\n",
       "      <td>0.0</td>\n",
       "      <td>0</td>\n",
       "      <td>1</td>\n",
       "      <td>1</td>\n",
       "      <td>737.0</td>\n",
       "      <td>2</td>\n",
       "      <td>3682.0</td>\n",
       "      <td>0</td>\n",
       "      <td>0</td>\n",
       "      <td>1</td>\n",
       "    </tr>\n",
       "    <tr>\n",
       "      <th>3</th>\n",
       "      <td>10000.0</td>\n",
       "      <td>10000.0</td>\n",
       "      <td>36</td>\n",
       "      <td>339.31</td>\n",
       "      <td>2</td>\n",
       "      <td>10</td>\n",
       "      <td>AIR RESOURCES BOARD</td>\n",
       "      <td>10</td>\n",
       "      <td>RENT</td>\n",
       "      <td>49200.0</td>\n",
       "      <td>...</td>\n",
       "      <td>0.0</td>\n",
       "      <td>0</td>\n",
       "      <td>1</td>\n",
       "      <td>1</td>\n",
       "      <td>692.0</td>\n",
       "      <td>2</td>\n",
       "      <td>5782.0</td>\n",
       "      <td>0</td>\n",
       "      <td>0</td>\n",
       "      <td>6</td>\n",
       "    </tr>\n",
       "    <tr>\n",
       "      <th>4</th>\n",
       "      <td>3000.0</td>\n",
       "      <td>3000.0</td>\n",
       "      <td>60</td>\n",
       "      <td>67.79</td>\n",
       "      <td>1</td>\n",
       "      <td>9</td>\n",
       "      <td>University Medical Group</td>\n",
       "      <td>1</td>\n",
       "      <td>RENT</td>\n",
       "      <td>80000.0</td>\n",
       "      <td>...</td>\n",
       "      <td>0.0</td>\n",
       "      <td>0</td>\n",
       "      <td>1</td>\n",
       "      <td>1</td>\n",
       "      <td>697.0</td>\n",
       "      <td>2</td>\n",
       "      <td>5813.0</td>\n",
       "      <td>0</td>\n",
       "      <td>0</td>\n",
       "      <td>1</td>\n",
       "    </tr>\n",
       "  </tbody>\n",
       "</table>\n",
       "<p>5 rows × 38 columns</p>\n",
       "</div>"
      ],
      "text/plain": [
       "   loan_amnt  funded_amnt  term  installment  grade  sub_grade  \\\n",
       "0     5000.0       5000.0    36       162.87      1          6   \n",
       "1     2500.0       2500.0    60        59.83      2         13   \n",
       "2     2400.0       2400.0    36        84.33      2         14   \n",
       "3    10000.0      10000.0    36       339.31      2         10   \n",
       "4     3000.0       3000.0    60        67.79      1          9   \n",
       "\n",
       "                  emp_title  emp_length home_ownership  annual_inc  ...  \\\n",
       "0                         0          10           RENT     24000.0  ...   \n",
       "1                     Ryder           0           RENT     30000.0  ...   \n",
       "2                         0          10           RENT     12252.0  ...   \n",
       "3       AIR RESOURCES BOARD          10           RENT     49200.0  ...   \n",
       "4  University Medical Group           1           RENT     80000.0  ...   \n",
       "\n",
       "  pub_rec_bankruptcies  debt_settlement_flag loan_status credit_policy  \\\n",
       "0                  0.0                     0           1             1   \n",
       "1                  0.0                     0           0             1   \n",
       "2                  0.0                     0           1             1   \n",
       "3                  0.0                     0           1             1   \n",
       "4                  0.0                     0           1             1   \n",
       "\n",
       "  fico_average FICO_Score_group  credit_age  as_annual_inc_outlier  \\\n",
       "0        737.0                2      4564.0                      0   \n",
       "1        742.0                3      4627.0                      0   \n",
       "2        737.0                2      3682.0                      0   \n",
       "3        692.0                2      5782.0                      0   \n",
       "4        697.0                2      5813.0                      0   \n",
       "\n",
       "   as_loan_amnt_outlier  loan_amnt_bin  \n",
       "0                     0              2  \n",
       "1                     0              1  \n",
       "2                     0              1  \n",
       "3                     0              6  \n",
       "4                     0              1  \n",
       "\n",
       "[5 rows x 38 columns]"
      ]
     },
     "execution_count": 254,
     "metadata": {},
     "output_type": "execute_result"
    }
   ],
   "source": [
    "filtered_loans.head()"
   ]
  },
  {
   "cell_type": "markdown",
   "metadata": {},
   "source": [
    "#### 18. Create dummy variables"
   ]
  },
  {
   "cell_type": "code",
   "execution_count": 255,
   "metadata": {},
   "outputs": [
    {
     "data": {
      "text/plain": [
       "loan_amnt                float64\n",
       "funded_amnt              float64\n",
       "term                       int64\n",
       "installment              float64\n",
       "grade                      int64\n",
       "sub_grade                  int64\n",
       "emp_title                 object\n",
       "emp_length                 int64\n",
       "home_ownership            object\n",
       "annual_inc               float64\n",
       "verification_status       object\n",
       "issue_d                    int64\n",
       "desc                      object\n",
       "purpose                   object\n",
       "title                     object\n",
       "addr_state                object\n",
       "dti                      float64\n",
       "delinq_2yrs              float64\n",
       "earliest_cr_line           int64\n",
       "inq_last_6mths           float64\n",
       "open_acc                 float64\n",
       "pub_rec                  float64\n",
       "revol_bal                float64\n",
       "revol_util               float64\n",
       "total_acc                float64\n",
       "last_pymnt_amnt          float64\n",
       "last_credit_pull_d         int64\n",
       "delinq_amnt              float64\n",
       "pub_rec_bankruptcies     float64\n",
       "debt_settlement_flag       int64\n",
       "loan_status                int64\n",
       "credit_policy              int64\n",
       "fico_average             float64\n",
       "FICO_Score_group           int64\n",
       "credit_age               float64\n",
       "as_annual_inc_outlier      int64\n",
       "as_loan_amnt_outlier       int64\n",
       "loan_amnt_bin              int64\n",
       "dtype: object"
      ]
     },
     "execution_count": 255,
     "metadata": {},
     "output_type": "execute_result"
    }
   ],
   "source": [
    "filtered_loans.dtypes"
   ]
  },
  {
   "cell_type": "code",
   "execution_count": 262,
   "metadata": {},
   "outputs": [
    {
     "name": "stdout",
     "output_type": "stream",
     "text": [
      "<class 'pandas.core.frame.DataFrame'>\n",
      "RangeIndex: 42535 entries, 0 to 42534\n",
      "Data columns (total 34 columns):\n",
      " #   Column                 Non-Null Count  Dtype  \n",
      "---  ------                 --------------  -----  \n",
      " 0   loan_amnt              42535 non-null  float64\n",
      " 1   funded_amnt            42535 non-null  float64\n",
      " 2   term                   42535 non-null  int64  \n",
      " 3   installment            42535 non-null  float64\n",
      " 4   grade                  42535 non-null  int64  \n",
      " 5   sub_grade              42535 non-null  int64  \n",
      " 6   emp_length             42535 non-null  int64  \n",
      " 7   home_ownership         42535 non-null  object \n",
      " 8   annual_inc             42535 non-null  float64\n",
      " 9   verification_status    42535 non-null  object \n",
      " 10  issue_d                42535 non-null  int64  \n",
      " 11  purpose                42535 non-null  object \n",
      " 12  dti                    42535 non-null  float64\n",
      " 13  delinq_2yrs            42535 non-null  float64\n",
      " 14  earliest_cr_line       42535 non-null  int64  \n",
      " 15  inq_last_6mths         42535 non-null  float64\n",
      " 16  open_acc               42535 non-null  float64\n",
      " 17  pub_rec                42535 non-null  float64\n",
      " 18  revol_bal              42535 non-null  float64\n",
      " 19  revol_util             42535 non-null  float64\n",
      " 20  total_acc              42535 non-null  float64\n",
      " 21  last_pymnt_amnt        42535 non-null  float64\n",
      " 22  last_credit_pull_d     42535 non-null  int64  \n",
      " 23  delinq_amnt            42535 non-null  float64\n",
      " 24  pub_rec_bankruptcies   42535 non-null  float64\n",
      " 25  debt_settlement_flag   42535 non-null  int64  \n",
      " 26  loan_status            42535 non-null  int64  \n",
      " 27  credit_policy          42535 non-null  int64  \n",
      " 28  fico_average           42535 non-null  float64\n",
      " 29  FICO_Score_group       42535 non-null  int64  \n",
      " 30  credit_age             42535 non-null  float64\n",
      " 31  as_annual_inc_outlier  42535 non-null  int64  \n",
      " 32  as_loan_amnt_outlier   42535 non-null  int64  \n",
      " 33  loan_amnt_bin          42535 non-null  int64  \n",
      "dtypes: float64(17), int64(14), object(3)\n",
      "memory usage: 11.0+ MB\n"
     ]
    }
   ],
   "source": [
    "# Drop columns that will not be used in modelling\n",
    "loan_main = filtered_loans.drop(['emp_title', 'desc', 'title', 'addr_state'], axis = 1)\n",
    "loan_main.info()"
   ]
  },
  {
   "cell_type": "code",
   "execution_count": 264,
   "metadata": {},
   "outputs": [
    {
     "data": {
      "text/html": [
       "<div>\n",
       "<style scoped>\n",
       "    .dataframe tbody tr th:only-of-type {\n",
       "        vertical-align: middle;\n",
       "    }\n",
       "\n",
       "    .dataframe tbody tr th {\n",
       "        vertical-align: top;\n",
       "    }\n",
       "\n",
       "    .dataframe thead th {\n",
       "        text-align: right;\n",
       "    }\n",
       "</style>\n",
       "<table border=\"1\" class=\"dataframe\">\n",
       "  <thead>\n",
       "    <tr style=\"text-align: right;\">\n",
       "      <th></th>\n",
       "      <th>loan_amnt</th>\n",
       "      <th>funded_amnt</th>\n",
       "      <th>term</th>\n",
       "      <th>installment</th>\n",
       "      <th>grade</th>\n",
       "      <th>sub_grade</th>\n",
       "      <th>emp_length</th>\n",
       "      <th>annual_inc</th>\n",
       "      <th>issue_d</th>\n",
       "      <th>dti</th>\n",
       "      <th>...</th>\n",
       "      <th>purpose_home_improvement</th>\n",
       "      <th>purpose_house</th>\n",
       "      <th>purpose_major_purchase</th>\n",
       "      <th>purpose_medical</th>\n",
       "      <th>purpose_moving</th>\n",
       "      <th>purpose_other</th>\n",
       "      <th>purpose_renewable_energy</th>\n",
       "      <th>purpose_small_business</th>\n",
       "      <th>purpose_vacation</th>\n",
       "      <th>purpose_wedding</th>\n",
       "    </tr>\n",
       "  </thead>\n",
       "  <tbody>\n",
       "    <tr>\n",
       "      <th>0</th>\n",
       "      <td>5000.0</td>\n",
       "      <td>5000.0</td>\n",
       "      <td>36</td>\n",
       "      <td>162.87</td>\n",
       "      <td>1</td>\n",
       "      <td>6</td>\n",
       "      <td>10</td>\n",
       "      <td>24000.0</td>\n",
       "      <td>2011</td>\n",
       "      <td>27.65</td>\n",
       "      <td>...</td>\n",
       "      <td>0</td>\n",
       "      <td>0</td>\n",
       "      <td>0</td>\n",
       "      <td>0</td>\n",
       "      <td>0</td>\n",
       "      <td>0</td>\n",
       "      <td>0</td>\n",
       "      <td>0</td>\n",
       "      <td>0</td>\n",
       "      <td>0</td>\n",
       "    </tr>\n",
       "    <tr>\n",
       "      <th>1</th>\n",
       "      <td>2500.0</td>\n",
       "      <td>2500.0</td>\n",
       "      <td>60</td>\n",
       "      <td>59.83</td>\n",
       "      <td>2</td>\n",
       "      <td>13</td>\n",
       "      <td>0</td>\n",
       "      <td>30000.0</td>\n",
       "      <td>2011</td>\n",
       "      <td>1.00</td>\n",
       "      <td>...</td>\n",
       "      <td>0</td>\n",
       "      <td>0</td>\n",
       "      <td>0</td>\n",
       "      <td>0</td>\n",
       "      <td>0</td>\n",
       "      <td>0</td>\n",
       "      <td>0</td>\n",
       "      <td>0</td>\n",
       "      <td>0</td>\n",
       "      <td>0</td>\n",
       "    </tr>\n",
       "    <tr>\n",
       "      <th>2</th>\n",
       "      <td>2400.0</td>\n",
       "      <td>2400.0</td>\n",
       "      <td>36</td>\n",
       "      <td>84.33</td>\n",
       "      <td>2</td>\n",
       "      <td>14</td>\n",
       "      <td>10</td>\n",
       "      <td>12252.0</td>\n",
       "      <td>2011</td>\n",
       "      <td>8.72</td>\n",
       "      <td>...</td>\n",
       "      <td>0</td>\n",
       "      <td>0</td>\n",
       "      <td>0</td>\n",
       "      <td>0</td>\n",
       "      <td>0</td>\n",
       "      <td>0</td>\n",
       "      <td>0</td>\n",
       "      <td>1</td>\n",
       "      <td>0</td>\n",
       "      <td>0</td>\n",
       "    </tr>\n",
       "    <tr>\n",
       "      <th>3</th>\n",
       "      <td>10000.0</td>\n",
       "      <td>10000.0</td>\n",
       "      <td>36</td>\n",
       "      <td>339.31</td>\n",
       "      <td>2</td>\n",
       "      <td>10</td>\n",
       "      <td>10</td>\n",
       "      <td>49200.0</td>\n",
       "      <td>2011</td>\n",
       "      <td>20.00</td>\n",
       "      <td>...</td>\n",
       "      <td>0</td>\n",
       "      <td>0</td>\n",
       "      <td>0</td>\n",
       "      <td>0</td>\n",
       "      <td>0</td>\n",
       "      <td>1</td>\n",
       "      <td>0</td>\n",
       "      <td>0</td>\n",
       "      <td>0</td>\n",
       "      <td>0</td>\n",
       "    </tr>\n",
       "    <tr>\n",
       "      <th>4</th>\n",
       "      <td>3000.0</td>\n",
       "      <td>3000.0</td>\n",
       "      <td>60</td>\n",
       "      <td>67.79</td>\n",
       "      <td>1</td>\n",
       "      <td>9</td>\n",
       "      <td>1</td>\n",
       "      <td>80000.0</td>\n",
       "      <td>2011</td>\n",
       "      <td>17.94</td>\n",
       "      <td>...</td>\n",
       "      <td>0</td>\n",
       "      <td>0</td>\n",
       "      <td>0</td>\n",
       "      <td>0</td>\n",
       "      <td>0</td>\n",
       "      <td>1</td>\n",
       "      <td>0</td>\n",
       "      <td>0</td>\n",
       "      <td>0</td>\n",
       "      <td>0</td>\n",
       "    </tr>\n",
       "  </tbody>\n",
       "</table>\n",
       "<p>5 rows × 53 columns</p>\n",
       "</div>"
      ],
      "text/plain": [
       "   loan_amnt  funded_amnt  term  installment  grade  sub_grade  emp_length  \\\n",
       "0     5000.0       5000.0    36       162.87      1          6          10   \n",
       "1     2500.0       2500.0    60        59.83      2         13           0   \n",
       "2     2400.0       2400.0    36        84.33      2         14          10   \n",
       "3    10000.0      10000.0    36       339.31      2         10          10   \n",
       "4     3000.0       3000.0    60        67.79      1          9           1   \n",
       "\n",
       "   annual_inc  issue_d    dti  ...  purpose_home_improvement  purpose_house  \\\n",
       "0     24000.0     2011  27.65  ...                         0              0   \n",
       "1     30000.0     2011   1.00  ...                         0              0   \n",
       "2     12252.0     2011   8.72  ...                         0              0   \n",
       "3     49200.0     2011  20.00  ...                         0              0   \n",
       "4     80000.0     2011  17.94  ...                         0              0   \n",
       "\n",
       "   purpose_major_purchase  purpose_medical  purpose_moving  purpose_other  \\\n",
       "0                       0                0               0              0   \n",
       "1                       0                0               0              0   \n",
       "2                       0                0               0              0   \n",
       "3                       0                0               0              1   \n",
       "4                       0                0               0              1   \n",
       "\n",
       "   purpose_renewable_energy  purpose_small_business  purpose_vacation  \\\n",
       "0                         0                       0                 0   \n",
       "1                         0                       0                 0   \n",
       "2                         0                       1                 0   \n",
       "3                         0                       0                 0   \n",
       "4                         0                       0                 0   \n",
       "\n",
       "   purpose_wedding  \n",
       "0                0  \n",
       "1                0  \n",
       "2                0  \n",
       "3                0  \n",
       "4                0  \n",
       "\n",
       "[5 rows x 53 columns]"
      ]
     },
     "execution_count": 264,
     "metadata": {},
     "output_type": "execute_result"
    }
   ],
   "source": [
    "# Create dummy variables\n",
    "loan_main_dummies = pd.get_dummies(loan_main)\n",
    "loan_main_dummies.head()"
   ]
  },
  {
   "cell_type": "code",
   "execution_count": 266,
   "metadata": {},
   "outputs": [
    {
     "data": {
      "text/plain": [
       "loan_amnt                              float64\n",
       "funded_amnt                            float64\n",
       "term                                     int64\n",
       "installment                            float64\n",
       "grade                                    int64\n",
       "sub_grade                                int64\n",
       "emp_length                               int64\n",
       "annual_inc                             float64\n",
       "issue_d                                  int64\n",
       "dti                                    float64\n",
       "delinq_2yrs                            float64\n",
       "earliest_cr_line                         int64\n",
       "inq_last_6mths                         float64\n",
       "open_acc                               float64\n",
       "pub_rec                                float64\n",
       "revol_bal                              float64\n",
       "revol_util                             float64\n",
       "total_acc                              float64\n",
       "last_pymnt_amnt                        float64\n",
       "last_credit_pull_d                       int64\n",
       "delinq_amnt                            float64\n",
       "pub_rec_bankruptcies                   float64\n",
       "debt_settlement_flag                     int64\n",
       "loan_status                              int64\n",
       "credit_policy                            int64\n",
       "fico_average                           float64\n",
       "FICO_Score_group                         int64\n",
       "credit_age                             float64\n",
       "as_annual_inc_outlier                    int64\n",
       "as_loan_amnt_outlier                     int64\n",
       "loan_amnt_bin                            int64\n",
       "home_ownership_MORTGAGE                  uint8\n",
       "home_ownership_NONE                      uint8\n",
       "home_ownership_OTHER                     uint8\n",
       "home_ownership_OWN                       uint8\n",
       "home_ownership_RENT                      uint8\n",
       "verification_status_Not Verified         uint8\n",
       "verification_status_Source Verified      uint8\n",
       "verification_status_Verified             uint8\n",
       "purpose_car                              uint8\n",
       "purpose_credit_card                      uint8\n",
       "purpose_debt_consolidation               uint8\n",
       "purpose_educational                      uint8\n",
       "purpose_home_improvement                 uint8\n",
       "purpose_house                            uint8\n",
       "purpose_major_purchase                   uint8\n",
       "purpose_medical                          uint8\n",
       "purpose_moving                           uint8\n",
       "purpose_other                            uint8\n",
       "purpose_renewable_energy                 uint8\n",
       "purpose_small_business                   uint8\n",
       "purpose_vacation                         uint8\n",
       "purpose_wedding                          uint8\n",
       "dtype: object"
      ]
     },
     "execution_count": 266,
     "metadata": {},
     "output_type": "execute_result"
    }
   ],
   "source": [
    "loan_main_dummies.dtypes"
   ]
  },
  {
   "cell_type": "code",
   "execution_count": 265,
   "metadata": {},
   "outputs": [],
   "source": [
    "# Export filtered loan_main_dummies into .csv\n",
    "exported_data = loan_main_dummies.to_csv('./loan_main_dummies.csv', index = False)"
   ]
  },
  {
   "cell_type": "markdown",
   "metadata": {},
   "source": [
    "#### 19. Data normalization"
   ]
  },
  {
   "cell_type": "code",
   "execution_count": 267,
   "metadata": {},
   "outputs": [
    {
     "data": {
      "text/plain": [
       "loan_amnt                              0\n",
       "funded_amnt                            0\n",
       "term                                   0\n",
       "installment                            0\n",
       "grade                                  0\n",
       "sub_grade                              0\n",
       "emp_length                             0\n",
       "annual_inc                             0\n",
       "issue_d                                0\n",
       "dti                                    0\n",
       "delinq_2yrs                            0\n",
       "earliest_cr_line                       0\n",
       "inq_last_6mths                         0\n",
       "open_acc                               0\n",
       "pub_rec                                0\n",
       "revol_bal                              0\n",
       "revol_util                             0\n",
       "total_acc                              0\n",
       "last_pymnt_amnt                        0\n",
       "last_credit_pull_d                     0\n",
       "delinq_amnt                            0\n",
       "pub_rec_bankruptcies                   0\n",
       "debt_settlement_flag                   0\n",
       "loan_status                            0\n",
       "credit_policy                          0\n",
       "fico_average                           0\n",
       "FICO_Score_group                       0\n",
       "credit_age                             0\n",
       "as_annual_inc_outlier                  0\n",
       "as_loan_amnt_outlier                   0\n",
       "loan_amnt_bin                          0\n",
       "home_ownership_MORTGAGE                0\n",
       "home_ownership_NONE                    0\n",
       "home_ownership_OTHER                   0\n",
       "home_ownership_OWN                     0\n",
       "home_ownership_RENT                    0\n",
       "verification_status_Not Verified       0\n",
       "verification_status_Source Verified    0\n",
       "verification_status_Verified           0\n",
       "purpose_car                            0\n",
       "purpose_credit_card                    0\n",
       "purpose_debt_consolidation             0\n",
       "purpose_educational                    0\n",
       "purpose_home_improvement               0\n",
       "purpose_house                          0\n",
       "purpose_major_purchase                 0\n",
       "purpose_medical                        0\n",
       "purpose_moving                         0\n",
       "purpose_other                          0\n",
       "purpose_renewable_energy               0\n",
       "purpose_small_business                 0\n",
       "purpose_vacation                       0\n",
       "purpose_wedding                        0\n",
       "dtype: int64"
      ]
     },
     "execution_count": 267,
     "metadata": {},
     "output_type": "execute_result"
    }
   ],
   "source": [
    "loan_main_dummies.isnull().sum()"
   ]
  },
  {
   "cell_type": "code",
   "execution_count": 273,
   "metadata": {},
   "outputs": [
    {
     "data": {
      "text/plain": [
       "loan_amnt                                1.06\n",
       "funded_amnt                              1.09\n",
       "term                                     1.10\n",
       "installment                              1.13\n",
       "grade                                    0.76\n",
       "sub_grade                                0.77\n",
       "emp_length                               0.25\n",
       "annual_inc                               0.54\n",
       "issue_d                                 -1.23\n",
       "dti                                     -0.03\n",
       "delinq_2yrs                              5.44\n",
       "earliest_cr_line                        -1.16\n",
       "inq_last_6mths                           3.45\n",
       "open_acc                                 1.04\n",
       "pub_rec                                  4.61\n",
       "revol_bal                               11.01\n",
       "revol_util                              -0.04\n",
       "total_acc                                0.82\n",
       "last_pymnt_amnt                          2.75\n",
       "last_credit_pull_d                      -0.79\n",
       "delinq_amnt                            206.23\n",
       "pub_rec_bankruptcies                     4.52\n",
       "debt_settlement_flag                    16.21\n",
       "loan_status                             -1.95\n",
       "credit_policy                           -3.54\n",
       "fico_average                             0.46\n",
       "FICO_Score_group                        -0.45\n",
       "credit_age                               0.34\n",
       "as_annual_inc_outlier                   11.03\n",
       "as_loan_amnt_outlier                     7.44\n",
       "loan_amnt_bin                            0.01\n",
       "home_ownership_MORTGAGE                  0.22\n",
       "home_ownership_NONE                     72.90\n",
       "home_ownership_OTHER                    17.60\n",
       "home_ownership_OWN                       3.19\n",
       "home_ownership_RENT                      0.10\n",
       "verification_status_Not Verified         0.24\n",
       "verification_status_Source Verified      1.20\n",
       "verification_status_Verified             0.79\n",
       "purpose_car                              4.84\n",
       "purpose_credit_card                      2.22\n",
       "purpose_debt_consolidation               0.14\n",
       "purpose_educational                      9.89\n",
       "purpose_home_improvement                 3.22\n",
       "purpose_house                            9.84\n",
       "purpose_major_purchase                   3.93\n",
       "purpose_medical                          7.31\n",
       "purpose_moving                           8.04\n",
       "purpose_other                            2.59\n",
       "purpose_renewable_energy                19.96\n",
       "purpose_small_business                   4.29\n",
       "purpose_vacation                        10.17\n",
       "purpose_wedding                          6.28\n",
       "dtype: float64"
      ]
     },
     "execution_count": 273,
     "metadata": {},
     "output_type": "execute_result"
    }
   ],
   "source": [
    "# Checking skewness\n",
    "skew_loan_main_dummies = loan_main_dummies.skew().round(2)\n",
    "skew_loan_main_dummies"
   ]
  },
  {
   "cell_type": "markdown",
   "metadata": {},
   "source": [
    "- Few features are very highly skeweed, therefore, normalization will be performed."
   ]
  },
  {
   "cell_type": "code",
   "execution_count": 279,
   "metadata": {},
   "outputs": [],
   "source": [
    "# Scaling the features\n",
    "loan_main_dummies_z = loan_main_dummies.apply(zscore)\n",
    "loan_main_dummies_z=pd.DataFrame(loan_main_dummies_z,columns=loan_main_dummies.columns)"
   ]
  },
  {
   "cell_type": "code",
   "execution_count": 299,
   "metadata": {},
   "outputs": [
    {
     "data": {
      "text/html": [
       "<div>\n",
       "<style scoped>\n",
       "    .dataframe tbody tr th:only-of-type {\n",
       "        vertical-align: middle;\n",
       "    }\n",
       "\n",
       "    .dataframe tbody tr th {\n",
       "        vertical-align: top;\n",
       "    }\n",
       "\n",
       "    .dataframe thead th {\n",
       "        text-align: right;\n",
       "    }\n",
       "</style>\n",
       "<table border=\"1\" class=\"dataframe\">\n",
       "  <thead>\n",
       "    <tr style=\"text-align: right;\">\n",
       "      <th></th>\n",
       "      <th>loan_amnt</th>\n",
       "      <th>funded_amnt</th>\n",
       "      <th>term</th>\n",
       "      <th>installment</th>\n",
       "      <th>grade</th>\n",
       "      <th>sub_grade</th>\n",
       "      <th>emp_length</th>\n",
       "      <th>annual_inc</th>\n",
       "      <th>issue_d</th>\n",
       "      <th>dti</th>\n",
       "      <th>...</th>\n",
       "      <th>purpose_home_improvement</th>\n",
       "      <th>purpose_house</th>\n",
       "      <th>purpose_major_purchase</th>\n",
       "      <th>purpose_medical</th>\n",
       "      <th>purpose_moving</th>\n",
       "      <th>purpose_other</th>\n",
       "      <th>purpose_renewable_energy</th>\n",
       "      <th>purpose_small_business</th>\n",
       "      <th>purpose_vacation</th>\n",
       "      <th>purpose_wedding</th>\n",
       "    </tr>\n",
       "  </thead>\n",
       "  <tbody>\n",
       "    <tr>\n",
       "      <th>0</th>\n",
       "      <td>-0.821731</td>\n",
       "      <td>-0.814569</td>\n",
       "      <td>-0.590645</td>\n",
       "      <td>-0.764644</td>\n",
       "      <td>-0.466389</td>\n",
       "      <td>-0.622967</td>\n",
       "      <td>1.442745</td>\n",
       "      <td>-1.412142</td>\n",
       "      <td>0.795288</td>\n",
       "      <td>2.122578</td>\n",
       "      <td>...</td>\n",
       "      <td>-0.285175</td>\n",
       "      <td>-0.100581</td>\n",
       "      <td>-0.239694</td>\n",
       "      <td>-0.134246</td>\n",
       "      <td>-0.122514</td>\n",
       "      <td>-0.340751</td>\n",
       "      <td>-0.049983</td>\n",
       "      <td>-0.22166</td>\n",
       "      <td>-0.097434</td>\n",
       "      <td>-0.155482</td>\n",
       "    </tr>\n",
       "    <tr>\n",
       "      <th>1</th>\n",
       "      <td>-1.159074</td>\n",
       "      <td>-1.164374</td>\n",
       "      <td>1.693064</td>\n",
       "      <td>-1.257836</td>\n",
       "      <td>0.228822</td>\n",
       "      <td>0.366964</td>\n",
       "      <td>-1.328770</td>\n",
       "      <td>-1.170964</td>\n",
       "      <td>0.795288</td>\n",
       "      <td>-1.839520</td>\n",
       "      <td>...</td>\n",
       "      <td>-0.285175</td>\n",
       "      <td>-0.100581</td>\n",
       "      <td>-0.239694</td>\n",
       "      <td>-0.134246</td>\n",
       "      <td>-0.122514</td>\n",
       "      <td>-0.340751</td>\n",
       "      <td>-0.049983</td>\n",
       "      <td>-0.22166</td>\n",
       "      <td>-0.097434</td>\n",
       "      <td>-0.155482</td>\n",
       "    </tr>\n",
       "    <tr>\n",
       "      <th>2</th>\n",
       "      <td>-1.172567</td>\n",
       "      <td>-1.178366</td>\n",
       "      <td>-0.590645</td>\n",
       "      <td>-1.140569</td>\n",
       "      <td>0.228822</td>\n",
       "      <td>0.508382</td>\n",
       "      <td>1.442745</td>\n",
       "      <td>-1.884367</td>\n",
       "      <td>0.795288</td>\n",
       "      <td>-0.691775</td>\n",
       "      <td>...</td>\n",
       "      <td>-0.285175</td>\n",
       "      <td>-0.100581</td>\n",
       "      <td>-0.239694</td>\n",
       "      <td>-0.134246</td>\n",
       "      <td>-0.122514</td>\n",
       "      <td>-0.340751</td>\n",
       "      <td>-0.049983</td>\n",
       "      <td>4.51142</td>\n",
       "      <td>-0.097434</td>\n",
       "      <td>-0.155482</td>\n",
       "    </tr>\n",
       "    <tr>\n",
       "      <th>3</th>\n",
       "      <td>-0.147044</td>\n",
       "      <td>-0.114958</td>\n",
       "      <td>-0.590645</td>\n",
       "      <td>0.079871</td>\n",
       "      <td>0.228822</td>\n",
       "      <td>-0.057292</td>\n",
       "      <td>1.442745</td>\n",
       "      <td>-0.399197</td>\n",
       "      <td>0.795288</td>\n",
       "      <td>0.985240</td>\n",
       "      <td>...</td>\n",
       "      <td>-0.285175</td>\n",
       "      <td>-0.100581</td>\n",
       "      <td>-0.239694</td>\n",
       "      <td>-0.134246</td>\n",
       "      <td>-0.122514</td>\n",
       "      <td>2.934694</td>\n",
       "      <td>-0.049983</td>\n",
       "      <td>-0.22166</td>\n",
       "      <td>-0.097434</td>\n",
       "      <td>-0.155482</td>\n",
       "    </tr>\n",
       "    <tr>\n",
       "      <th>4</th>\n",
       "      <td>-1.091605</td>\n",
       "      <td>-1.094413</td>\n",
       "      <td>1.693064</td>\n",
       "      <td>-1.219736</td>\n",
       "      <td>-0.466389</td>\n",
       "      <td>-0.198711</td>\n",
       "      <td>-1.051618</td>\n",
       "      <td>0.838846</td>\n",
       "      <td>0.795288</td>\n",
       "      <td>0.678977</td>\n",
       "      <td>...</td>\n",
       "      <td>-0.285175</td>\n",
       "      <td>-0.100581</td>\n",
       "      <td>-0.239694</td>\n",
       "      <td>-0.134246</td>\n",
       "      <td>-0.122514</td>\n",
       "      <td>2.934694</td>\n",
       "      <td>-0.049983</td>\n",
       "      <td>-0.22166</td>\n",
       "      <td>-0.097434</td>\n",
       "      <td>-0.155482</td>\n",
       "    </tr>\n",
       "  </tbody>\n",
       "</table>\n",
       "<p>5 rows × 53 columns</p>\n",
       "</div>"
      ],
      "text/plain": [
       "   loan_amnt  funded_amnt      term  installment     grade  sub_grade  \\\n",
       "0  -0.821731    -0.814569 -0.590645    -0.764644 -0.466389  -0.622967   \n",
       "1  -1.159074    -1.164374  1.693064    -1.257836  0.228822   0.366964   \n",
       "2  -1.172567    -1.178366 -0.590645    -1.140569  0.228822   0.508382   \n",
       "3  -0.147044    -0.114958 -0.590645     0.079871  0.228822  -0.057292   \n",
       "4  -1.091605    -1.094413  1.693064    -1.219736 -0.466389  -0.198711   \n",
       "\n",
       "   emp_length  annual_inc   issue_d       dti  ...  purpose_home_improvement  \\\n",
       "0    1.442745   -1.412142  0.795288  2.122578  ...                 -0.285175   \n",
       "1   -1.328770   -1.170964  0.795288 -1.839520  ...                 -0.285175   \n",
       "2    1.442745   -1.884367  0.795288 -0.691775  ...                 -0.285175   \n",
       "3    1.442745   -0.399197  0.795288  0.985240  ...                 -0.285175   \n",
       "4   -1.051618    0.838846  0.795288  0.678977  ...                 -0.285175   \n",
       "\n",
       "   purpose_house  purpose_major_purchase  purpose_medical  purpose_moving  \\\n",
       "0      -0.100581               -0.239694        -0.134246       -0.122514   \n",
       "1      -0.100581               -0.239694        -0.134246       -0.122514   \n",
       "2      -0.100581               -0.239694        -0.134246       -0.122514   \n",
       "3      -0.100581               -0.239694        -0.134246       -0.122514   \n",
       "4      -0.100581               -0.239694        -0.134246       -0.122514   \n",
       "\n",
       "   purpose_other  purpose_renewable_energy  purpose_small_business  \\\n",
       "0      -0.340751                 -0.049983                -0.22166   \n",
       "1      -0.340751                 -0.049983                -0.22166   \n",
       "2      -0.340751                 -0.049983                 4.51142   \n",
       "3       2.934694                 -0.049983                -0.22166   \n",
       "4       2.934694                 -0.049983                -0.22166   \n",
       "\n",
       "   purpose_vacation  purpose_wedding  \n",
       "0         -0.097434        -0.155482  \n",
       "1         -0.097434        -0.155482  \n",
       "2         -0.097434        -0.155482  \n",
       "3         -0.097434        -0.155482  \n",
       "4         -0.097434        -0.155482  \n",
       "\n",
       "[5 rows x 53 columns]"
      ]
     },
     "execution_count": 299,
     "metadata": {},
     "output_type": "execute_result"
    }
   ],
   "source": [
    "loan_main_dummies_z.head()"
   ]
  },
  {
   "cell_type": "code",
   "execution_count": 292,
   "metadata": {},
   "outputs": [],
   "source": [
    "# Export filtered loan_main_dummies into .csv\n",
    "exported_data = loan_main_dummies_z.to_csv('./loan_main_dummies_z_score.csv', index = False)"
   ]
  }
 ],
 "metadata": {
  "kernelspec": {
   "display_name": "Python 3",
   "language": "python",
   "name": "python3"
  },
  "language_info": {
   "codemirror_mode": {
    "name": "ipython",
    "version": 3
   },
   "file_extension": ".py",
   "mimetype": "text/x-python",
   "name": "python",
   "nbconvert_exporter": "python",
   "pygments_lexer": "ipython3",
   "version": "3.8.3"
  }
 },
 "nbformat": 4,
 "nbformat_minor": 4
}
