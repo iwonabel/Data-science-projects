{
 "cells": [
  {
   "cell_type": "markdown",
   "metadata": {},
   "source": [
    "## 4. Modeling\n",
    "### 4.3 Model after PCA"
   ]
  },
  {
   "cell_type": "markdown",
   "metadata": {},
   "source": [
    "Based on the previos analysis (notebook 4.2), 5 models were selected with the highest AUROC scores:\n",
    "\n",
    "1. AdaBoosting Classifier with KFold validation\n",
    "2. Random Forest with KFold validation\n",
    "3. Logistic Regression with KFold validation\n",
    "4. Gradient Boost with KFold validation\n",
    "5. AdaBoosting Classifier \n",
    "\n",
    "The selected models will be checked with PCA analysis."
   ]
  },
  {
   "cell_type": "code",
   "execution_count": 63,
   "metadata": {},
   "outputs": [],
   "source": [
    "import pandas as pd\n",
    "import numpy as np\n",
    "from matplotlib import pyplot as plt\n",
    "import seaborn as sns\n",
    "#importing the PCA scaling library\n",
    "from sklearn.decomposition import PCA\n",
    "#importing the feature scaling library\n",
    "from sklearn.preprocessing import StandardScaler\n",
    "#Import Sklearn package's data splitting function which is based on random function\n",
    "from sklearn.model_selection import train_test_split\n",
    "# Import Linear Regression, Ridge and Lasso machine learning library\n",
    "from sklearn.linear_model import LogisticRegression\n",
    "# Import KNN Regressor machine learning library\n",
    "from sklearn.tree import DecisionTreeClassifier\n",
    "# Import ensemble machine learning library\n",
    "from sklearn.ensemble import (RandomForestRegressor, GradientBoostingRegressor,AdaBoostRegressor,BaggingRegressor)\n",
    "# Import support vector regressor machine learning library\n",
    "from sklearn.svm import SVC\n",
    "#Import the metrics\n",
    "from sklearn import metrics\n",
    "#Import the Voting regressor for Ensemble\n",
    "from sklearn.ensemble import VotingRegressor\n",
    "# Import stats from scipy\n",
    "from scipy import stats\n",
    "# Import zscore for scaling\n",
    "from scipy.stats import zscore\n",
    "#importing the metrics\n",
    "from sklearn.metrics import mean_squared_error,mean_absolute_error,r2_score\n",
    "#importing the K fold\n",
    "from sklearn.model_selection import KFold\n",
    "#importing the cross validation score\n",
    "from sklearn.model_selection import cross_val_score\n",
    "from sklearn.metrics import accuracy_score\n",
    "from sklearn.metrics import recall_score\n",
    "from sklearn.metrics import precision_score\n",
    "from sklearn.metrics import f1_score\n",
    "from sklearn.metrics import roc_auc_score\n",
    "from sklearn.metrics import confusion_matrix\n",
    "#importing the preprocessing library\n",
    "from sklearn import preprocessing\n",
    "# importing the Polynomial features\n",
    "from sklearn.preprocessing import PolynomialFeatures\n",
    "from sklearn.utils import resample\n",
    "from sklearn.svm import SVC\n",
    "from sklearn.ensemble import AdaBoostClassifier\n",
    "from sklearn.ensemble import GradientBoostingClassifier\n",
    "from sklearn.neighbors import KNeighborsClassifier\n",
    "from sklearn.ensemble import RandomForestClassifier\n"
   ]
  },
  {
   "cell_type": "code",
   "execution_count": 2,
   "metadata": {},
   "outputs": [
    {
     "data": {
      "text/html": [
       "<div>\n",
       "<style scoped>\n",
       "    .dataframe tbody tr th:only-of-type {\n",
       "        vertical-align: middle;\n",
       "    }\n",
       "\n",
       "    .dataframe tbody tr th {\n",
       "        vertical-align: top;\n",
       "    }\n",
       "\n",
       "    .dataframe thead th {\n",
       "        text-align: right;\n",
       "    }\n",
       "</style>\n",
       "<table border=\"1\" class=\"dataframe\">\n",
       "  <thead>\n",
       "    <tr style=\"text-align: right;\">\n",
       "      <th></th>\n",
       "      <th>loan_amnt</th>\n",
       "      <th>funded_amnt</th>\n",
       "      <th>term</th>\n",
       "      <th>installment</th>\n",
       "      <th>grade</th>\n",
       "      <th>sub_grade</th>\n",
       "      <th>emp_length</th>\n",
       "      <th>annual_inc</th>\n",
       "      <th>issue_d</th>\n",
       "      <th>dti</th>\n",
       "      <th>...</th>\n",
       "      <th>purpose_home_improvement</th>\n",
       "      <th>purpose_house</th>\n",
       "      <th>purpose_major_purchase</th>\n",
       "      <th>purpose_medical</th>\n",
       "      <th>purpose_moving</th>\n",
       "      <th>purpose_other</th>\n",
       "      <th>purpose_renewable_energy</th>\n",
       "      <th>purpose_small_business</th>\n",
       "      <th>purpose_vacation</th>\n",
       "      <th>purpose_wedding</th>\n",
       "    </tr>\n",
       "  </thead>\n",
       "  <tbody>\n",
       "    <tr>\n",
       "      <th>0</th>\n",
       "      <td>5000.0</td>\n",
       "      <td>5000.0</td>\n",
       "      <td>36</td>\n",
       "      <td>162.87</td>\n",
       "      <td>1</td>\n",
       "      <td>6</td>\n",
       "      <td>10</td>\n",
       "      <td>24000.0</td>\n",
       "      <td>2011</td>\n",
       "      <td>27.65</td>\n",
       "      <td>...</td>\n",
       "      <td>0</td>\n",
       "      <td>0</td>\n",
       "      <td>0</td>\n",
       "      <td>0</td>\n",
       "      <td>0</td>\n",
       "      <td>0</td>\n",
       "      <td>0</td>\n",
       "      <td>0</td>\n",
       "      <td>0</td>\n",
       "      <td>0</td>\n",
       "    </tr>\n",
       "    <tr>\n",
       "      <th>1</th>\n",
       "      <td>2500.0</td>\n",
       "      <td>2500.0</td>\n",
       "      <td>60</td>\n",
       "      <td>59.83</td>\n",
       "      <td>2</td>\n",
       "      <td>13</td>\n",
       "      <td>0</td>\n",
       "      <td>30000.0</td>\n",
       "      <td>2011</td>\n",
       "      <td>1.00</td>\n",
       "      <td>...</td>\n",
       "      <td>0</td>\n",
       "      <td>0</td>\n",
       "      <td>0</td>\n",
       "      <td>0</td>\n",
       "      <td>0</td>\n",
       "      <td>0</td>\n",
       "      <td>0</td>\n",
       "      <td>0</td>\n",
       "      <td>0</td>\n",
       "      <td>0</td>\n",
       "    </tr>\n",
       "    <tr>\n",
       "      <th>2</th>\n",
       "      <td>2400.0</td>\n",
       "      <td>2400.0</td>\n",
       "      <td>36</td>\n",
       "      <td>84.33</td>\n",
       "      <td>2</td>\n",
       "      <td>14</td>\n",
       "      <td>10</td>\n",
       "      <td>12252.0</td>\n",
       "      <td>2011</td>\n",
       "      <td>8.72</td>\n",
       "      <td>...</td>\n",
       "      <td>0</td>\n",
       "      <td>0</td>\n",
       "      <td>0</td>\n",
       "      <td>0</td>\n",
       "      <td>0</td>\n",
       "      <td>0</td>\n",
       "      <td>0</td>\n",
       "      <td>1</td>\n",
       "      <td>0</td>\n",
       "      <td>0</td>\n",
       "    </tr>\n",
       "    <tr>\n",
       "      <th>3</th>\n",
       "      <td>10000.0</td>\n",
       "      <td>10000.0</td>\n",
       "      <td>36</td>\n",
       "      <td>339.31</td>\n",
       "      <td>2</td>\n",
       "      <td>10</td>\n",
       "      <td>10</td>\n",
       "      <td>49200.0</td>\n",
       "      <td>2011</td>\n",
       "      <td>20.00</td>\n",
       "      <td>...</td>\n",
       "      <td>0</td>\n",
       "      <td>0</td>\n",
       "      <td>0</td>\n",
       "      <td>0</td>\n",
       "      <td>0</td>\n",
       "      <td>1</td>\n",
       "      <td>0</td>\n",
       "      <td>0</td>\n",
       "      <td>0</td>\n",
       "      <td>0</td>\n",
       "    </tr>\n",
       "    <tr>\n",
       "      <th>4</th>\n",
       "      <td>3000.0</td>\n",
       "      <td>3000.0</td>\n",
       "      <td>60</td>\n",
       "      <td>67.79</td>\n",
       "      <td>1</td>\n",
       "      <td>9</td>\n",
       "      <td>1</td>\n",
       "      <td>80000.0</td>\n",
       "      <td>2011</td>\n",
       "      <td>17.94</td>\n",
       "      <td>...</td>\n",
       "      <td>0</td>\n",
       "      <td>0</td>\n",
       "      <td>0</td>\n",
       "      <td>0</td>\n",
       "      <td>0</td>\n",
       "      <td>1</td>\n",
       "      <td>0</td>\n",
       "      <td>0</td>\n",
       "      <td>0</td>\n",
       "      <td>0</td>\n",
       "    </tr>\n",
       "  </tbody>\n",
       "</table>\n",
       "<p>5 rows × 53 columns</p>\n",
       "</div>"
      ],
      "text/plain": [
       "   loan_amnt  funded_amnt  term  installment  grade  sub_grade  emp_length  \\\n",
       "0     5000.0       5000.0    36       162.87      1          6          10   \n",
       "1     2500.0       2500.0    60        59.83      2         13           0   \n",
       "2     2400.0       2400.0    36        84.33      2         14          10   \n",
       "3    10000.0      10000.0    36       339.31      2         10          10   \n",
       "4     3000.0       3000.0    60        67.79      1          9           1   \n",
       "\n",
       "   annual_inc  issue_d    dti  ...  purpose_home_improvement  purpose_house  \\\n",
       "0     24000.0     2011  27.65  ...                         0              0   \n",
       "1     30000.0     2011   1.00  ...                         0              0   \n",
       "2     12252.0     2011   8.72  ...                         0              0   \n",
       "3     49200.0     2011  20.00  ...                         0              0   \n",
       "4     80000.0     2011  17.94  ...                         0              0   \n",
       "\n",
       "   purpose_major_purchase  purpose_medical  purpose_moving  purpose_other  \\\n",
       "0                       0                0               0              0   \n",
       "1                       0                0               0              0   \n",
       "2                       0                0               0              0   \n",
       "3                       0                0               0              1   \n",
       "4                       0                0               0              1   \n",
       "\n",
       "   purpose_renewable_energy  purpose_small_business  purpose_vacation  \\\n",
       "0                         0                       0                 0   \n",
       "1                         0                       0                 0   \n",
       "2                         0                       1                 0   \n",
       "3                         0                       0                 0   \n",
       "4                         0                       0                 0   \n",
       "\n",
       "   purpose_wedding  \n",
       "0                0  \n",
       "1                0  \n",
       "2                0  \n",
       "3                0  \n",
       "4                0  \n",
       "\n",
       "[5 rows x 53 columns]"
      ]
     },
     "execution_count": 2,
     "metadata": {},
     "output_type": "execute_result"
    }
   ],
   "source": [
    "# Uploading data file\n",
    "loan_main_dummies = pd.read_csv('./loan_main_dummies.csv')\n",
    "loan_main_dummies.head()"
   ]
  },
  {
   "cell_type": "code",
   "execution_count": 3,
   "metadata": {},
   "outputs": [
    {
     "data": {
      "text/html": [
       "<div>\n",
       "<style scoped>\n",
       "    .dataframe tbody tr th:only-of-type {\n",
       "        vertical-align: middle;\n",
       "    }\n",
       "\n",
       "    .dataframe tbody tr th {\n",
       "        vertical-align: top;\n",
       "    }\n",
       "\n",
       "    .dataframe thead th {\n",
       "        text-align: right;\n",
       "    }\n",
       "</style>\n",
       "<table border=\"1\" class=\"dataframe\">\n",
       "  <thead>\n",
       "    <tr style=\"text-align: right;\">\n",
       "      <th></th>\n",
       "      <th>loan_amnt</th>\n",
       "      <th>funded_amnt</th>\n",
       "      <th>term</th>\n",
       "      <th>installment</th>\n",
       "      <th>grade</th>\n",
       "      <th>sub_grade</th>\n",
       "      <th>emp_length</th>\n",
       "      <th>annual_inc</th>\n",
       "      <th>issue_d</th>\n",
       "      <th>dti</th>\n",
       "      <th>...</th>\n",
       "      <th>purpose_home_improvement</th>\n",
       "      <th>purpose_house</th>\n",
       "      <th>purpose_major_purchase</th>\n",
       "      <th>purpose_medical</th>\n",
       "      <th>purpose_moving</th>\n",
       "      <th>purpose_other</th>\n",
       "      <th>purpose_renewable_energy</th>\n",
       "      <th>purpose_small_business</th>\n",
       "      <th>purpose_vacation</th>\n",
       "      <th>purpose_wedding</th>\n",
       "    </tr>\n",
       "  </thead>\n",
       "  <tbody>\n",
       "    <tr>\n",
       "      <th>0</th>\n",
       "      <td>5000.0</td>\n",
       "      <td>5000.0</td>\n",
       "      <td>36</td>\n",
       "      <td>162.87</td>\n",
       "      <td>1</td>\n",
       "      <td>6</td>\n",
       "      <td>10</td>\n",
       "      <td>24000.0</td>\n",
       "      <td>2011</td>\n",
       "      <td>27.65</td>\n",
       "      <td>...</td>\n",
       "      <td>0</td>\n",
       "      <td>0</td>\n",
       "      <td>0</td>\n",
       "      <td>0</td>\n",
       "      <td>0</td>\n",
       "      <td>0</td>\n",
       "      <td>0</td>\n",
       "      <td>0</td>\n",
       "      <td>0</td>\n",
       "      <td>0</td>\n",
       "    </tr>\n",
       "    <tr>\n",
       "      <th>1</th>\n",
       "      <td>2500.0</td>\n",
       "      <td>2500.0</td>\n",
       "      <td>60</td>\n",
       "      <td>59.83</td>\n",
       "      <td>2</td>\n",
       "      <td>13</td>\n",
       "      <td>0</td>\n",
       "      <td>30000.0</td>\n",
       "      <td>2011</td>\n",
       "      <td>1.00</td>\n",
       "      <td>...</td>\n",
       "      <td>0</td>\n",
       "      <td>0</td>\n",
       "      <td>0</td>\n",
       "      <td>0</td>\n",
       "      <td>0</td>\n",
       "      <td>0</td>\n",
       "      <td>0</td>\n",
       "      <td>0</td>\n",
       "      <td>0</td>\n",
       "      <td>0</td>\n",
       "    </tr>\n",
       "    <tr>\n",
       "      <th>2</th>\n",
       "      <td>2400.0</td>\n",
       "      <td>2400.0</td>\n",
       "      <td>36</td>\n",
       "      <td>84.33</td>\n",
       "      <td>2</td>\n",
       "      <td>14</td>\n",
       "      <td>10</td>\n",
       "      <td>12252.0</td>\n",
       "      <td>2011</td>\n",
       "      <td>8.72</td>\n",
       "      <td>...</td>\n",
       "      <td>0</td>\n",
       "      <td>0</td>\n",
       "      <td>0</td>\n",
       "      <td>0</td>\n",
       "      <td>0</td>\n",
       "      <td>0</td>\n",
       "      <td>0</td>\n",
       "      <td>1</td>\n",
       "      <td>0</td>\n",
       "      <td>0</td>\n",
       "    </tr>\n",
       "    <tr>\n",
       "      <th>3</th>\n",
       "      <td>10000.0</td>\n",
       "      <td>10000.0</td>\n",
       "      <td>36</td>\n",
       "      <td>339.31</td>\n",
       "      <td>2</td>\n",
       "      <td>10</td>\n",
       "      <td>10</td>\n",
       "      <td>49200.0</td>\n",
       "      <td>2011</td>\n",
       "      <td>20.00</td>\n",
       "      <td>...</td>\n",
       "      <td>0</td>\n",
       "      <td>0</td>\n",
       "      <td>0</td>\n",
       "      <td>0</td>\n",
       "      <td>0</td>\n",
       "      <td>1</td>\n",
       "      <td>0</td>\n",
       "      <td>0</td>\n",
       "      <td>0</td>\n",
       "      <td>0</td>\n",
       "    </tr>\n",
       "    <tr>\n",
       "      <th>4</th>\n",
       "      <td>3000.0</td>\n",
       "      <td>3000.0</td>\n",
       "      <td>60</td>\n",
       "      <td>67.79</td>\n",
       "      <td>1</td>\n",
       "      <td>9</td>\n",
       "      <td>1</td>\n",
       "      <td>80000.0</td>\n",
       "      <td>2011</td>\n",
       "      <td>17.94</td>\n",
       "      <td>...</td>\n",
       "      <td>0</td>\n",
       "      <td>0</td>\n",
       "      <td>0</td>\n",
       "      <td>0</td>\n",
       "      <td>0</td>\n",
       "      <td>1</td>\n",
       "      <td>0</td>\n",
       "      <td>0</td>\n",
       "      <td>0</td>\n",
       "      <td>0</td>\n",
       "    </tr>\n",
       "  </tbody>\n",
       "</table>\n",
       "<p>5 rows × 53 columns</p>\n",
       "</div>"
      ],
      "text/plain": [
       "   loan_amnt  funded_amnt  term  installment  grade  sub_grade  emp_length  \\\n",
       "0     5000.0       5000.0    36       162.87      1          6          10   \n",
       "1     2500.0       2500.0    60        59.83      2         13           0   \n",
       "2     2400.0       2400.0    36        84.33      2         14          10   \n",
       "3    10000.0      10000.0    36       339.31      2         10          10   \n",
       "4     3000.0       3000.0    60        67.79      1          9           1   \n",
       "\n",
       "   annual_inc  issue_d    dti  ...  purpose_home_improvement  purpose_house  \\\n",
       "0     24000.0     2011  27.65  ...                         0              0   \n",
       "1     30000.0     2011   1.00  ...                         0              0   \n",
       "2     12252.0     2011   8.72  ...                         0              0   \n",
       "3     49200.0     2011  20.00  ...                         0              0   \n",
       "4     80000.0     2011  17.94  ...                         0              0   \n",
       "\n",
       "   purpose_major_purchase  purpose_medical  purpose_moving  purpose_other  \\\n",
       "0                       0                0               0              0   \n",
       "1                       0                0               0              0   \n",
       "2                       0                0               0              0   \n",
       "3                       0                0               0              1   \n",
       "4                       0                0               0              1   \n",
       "\n",
       "   purpose_renewable_energy  purpose_small_business  purpose_vacation  \\\n",
       "0                         0                       0                 0   \n",
       "1                         0                       0                 0   \n",
       "2                         0                       1                 0   \n",
       "3                         0                       0                 0   \n",
       "4                         0                       0                 0   \n",
       "\n",
       "   purpose_wedding  \n",
       "0                0  \n",
       "1                0  \n",
       "2                0  \n",
       "3                0  \n",
       "4                0  \n",
       "\n",
       "[5 rows x 53 columns]"
      ]
     },
     "execution_count": 3,
     "metadata": {},
     "output_type": "execute_result"
    }
   ],
   "source": [
    "loan_main_dummies.head()"
   ]
  },
  {
   "cell_type": "code",
   "execution_count": 4,
   "metadata": {},
   "outputs": [],
   "source": [
    "# Define dataset\n",
    "X = loan_main_dummies.drop('loan_status', axis =1)\n",
    "y = loan_main_dummies.loan_status"
   ]
  },
  {
   "cell_type": "code",
   "execution_count": 5,
   "metadata": {},
   "outputs": [],
   "source": [
    "# Skaling features\n",
    "scaler = StandardScaler()\n",
    "scaler.fit_transform(X)\n",
    "X_scaled = scaler.transform(X)\n",
    "scaled_data = pd.DataFrame(X_scaled, columns= X.columns)"
   ]
  },
  {
   "cell_type": "code",
   "execution_count": 6,
   "metadata": {},
   "outputs": [
    {
     "data": {
      "text/plain": [
       "(42535, 52)"
      ]
     },
     "execution_count": 6,
     "metadata": {},
     "output_type": "execute_result"
    }
   ],
   "source": [
    "scaled_data.shape"
   ]
  },
  {
   "cell_type": "code",
   "execution_count": 7,
   "metadata": {},
   "outputs": [
    {
     "data": {
      "text/html": [
       "<div>\n",
       "<style scoped>\n",
       "    .dataframe tbody tr th:only-of-type {\n",
       "        vertical-align: middle;\n",
       "    }\n",
       "\n",
       "    .dataframe tbody tr th {\n",
       "        vertical-align: top;\n",
       "    }\n",
       "\n",
       "    .dataframe thead th {\n",
       "        text-align: right;\n",
       "    }\n",
       "</style>\n",
       "<table border=\"1\" class=\"dataframe\">\n",
       "  <thead>\n",
       "    <tr style=\"text-align: right;\">\n",
       "      <th></th>\n",
       "      <th>loan_amnt</th>\n",
       "      <th>funded_amnt</th>\n",
       "      <th>term</th>\n",
       "      <th>installment</th>\n",
       "      <th>grade</th>\n",
       "      <th>sub_grade</th>\n",
       "      <th>emp_length</th>\n",
       "      <th>annual_inc</th>\n",
       "      <th>issue_d</th>\n",
       "      <th>dti</th>\n",
       "      <th>...</th>\n",
       "      <th>purpose_home_improvement</th>\n",
       "      <th>purpose_house</th>\n",
       "      <th>purpose_major_purchase</th>\n",
       "      <th>purpose_medical</th>\n",
       "      <th>purpose_moving</th>\n",
       "      <th>purpose_other</th>\n",
       "      <th>purpose_renewable_energy</th>\n",
       "      <th>purpose_small_business</th>\n",
       "      <th>purpose_vacation</th>\n",
       "      <th>purpose_wedding</th>\n",
       "    </tr>\n",
       "  </thead>\n",
       "  <tbody>\n",
       "    <tr>\n",
       "      <th>0</th>\n",
       "      <td>-0.821731</td>\n",
       "      <td>-0.814569</td>\n",
       "      <td>-0.590645</td>\n",
       "      <td>-0.764644</td>\n",
       "      <td>-0.466389</td>\n",
       "      <td>-0.622967</td>\n",
       "      <td>1.442745</td>\n",
       "      <td>-1.412142</td>\n",
       "      <td>0.795288</td>\n",
       "      <td>2.122578</td>\n",
       "      <td>...</td>\n",
       "      <td>-0.285175</td>\n",
       "      <td>-0.100581</td>\n",
       "      <td>-0.239694</td>\n",
       "      <td>-0.134246</td>\n",
       "      <td>-0.122514</td>\n",
       "      <td>-0.340751</td>\n",
       "      <td>-0.049983</td>\n",
       "      <td>-0.22166</td>\n",
       "      <td>-0.097434</td>\n",
       "      <td>-0.155482</td>\n",
       "    </tr>\n",
       "    <tr>\n",
       "      <th>1</th>\n",
       "      <td>-1.159074</td>\n",
       "      <td>-1.164374</td>\n",
       "      <td>1.693064</td>\n",
       "      <td>-1.257836</td>\n",
       "      <td>0.228822</td>\n",
       "      <td>0.366964</td>\n",
       "      <td>-1.328770</td>\n",
       "      <td>-1.170964</td>\n",
       "      <td>0.795288</td>\n",
       "      <td>-1.839520</td>\n",
       "      <td>...</td>\n",
       "      <td>-0.285175</td>\n",
       "      <td>-0.100581</td>\n",
       "      <td>-0.239694</td>\n",
       "      <td>-0.134246</td>\n",
       "      <td>-0.122514</td>\n",
       "      <td>-0.340751</td>\n",
       "      <td>-0.049983</td>\n",
       "      <td>-0.22166</td>\n",
       "      <td>-0.097434</td>\n",
       "      <td>-0.155482</td>\n",
       "    </tr>\n",
       "    <tr>\n",
       "      <th>2</th>\n",
       "      <td>-1.172567</td>\n",
       "      <td>-1.178366</td>\n",
       "      <td>-0.590645</td>\n",
       "      <td>-1.140569</td>\n",
       "      <td>0.228822</td>\n",
       "      <td>0.508382</td>\n",
       "      <td>1.442745</td>\n",
       "      <td>-1.884367</td>\n",
       "      <td>0.795288</td>\n",
       "      <td>-0.691775</td>\n",
       "      <td>...</td>\n",
       "      <td>-0.285175</td>\n",
       "      <td>-0.100581</td>\n",
       "      <td>-0.239694</td>\n",
       "      <td>-0.134246</td>\n",
       "      <td>-0.122514</td>\n",
       "      <td>-0.340751</td>\n",
       "      <td>-0.049983</td>\n",
       "      <td>4.51142</td>\n",
       "      <td>-0.097434</td>\n",
       "      <td>-0.155482</td>\n",
       "    </tr>\n",
       "    <tr>\n",
       "      <th>3</th>\n",
       "      <td>-0.147044</td>\n",
       "      <td>-0.114958</td>\n",
       "      <td>-0.590645</td>\n",
       "      <td>0.079871</td>\n",
       "      <td>0.228822</td>\n",
       "      <td>-0.057292</td>\n",
       "      <td>1.442745</td>\n",
       "      <td>-0.399197</td>\n",
       "      <td>0.795288</td>\n",
       "      <td>0.985240</td>\n",
       "      <td>...</td>\n",
       "      <td>-0.285175</td>\n",
       "      <td>-0.100581</td>\n",
       "      <td>-0.239694</td>\n",
       "      <td>-0.134246</td>\n",
       "      <td>-0.122514</td>\n",
       "      <td>2.934694</td>\n",
       "      <td>-0.049983</td>\n",
       "      <td>-0.22166</td>\n",
       "      <td>-0.097434</td>\n",
       "      <td>-0.155482</td>\n",
       "    </tr>\n",
       "    <tr>\n",
       "      <th>4</th>\n",
       "      <td>-1.091605</td>\n",
       "      <td>-1.094413</td>\n",
       "      <td>1.693064</td>\n",
       "      <td>-1.219736</td>\n",
       "      <td>-0.466389</td>\n",
       "      <td>-0.198711</td>\n",
       "      <td>-1.051618</td>\n",
       "      <td>0.838846</td>\n",
       "      <td>0.795288</td>\n",
       "      <td>0.678977</td>\n",
       "      <td>...</td>\n",
       "      <td>-0.285175</td>\n",
       "      <td>-0.100581</td>\n",
       "      <td>-0.239694</td>\n",
       "      <td>-0.134246</td>\n",
       "      <td>-0.122514</td>\n",
       "      <td>2.934694</td>\n",
       "      <td>-0.049983</td>\n",
       "      <td>-0.22166</td>\n",
       "      <td>-0.097434</td>\n",
       "      <td>-0.155482</td>\n",
       "    </tr>\n",
       "  </tbody>\n",
       "</table>\n",
       "<p>5 rows × 52 columns</p>\n",
       "</div>"
      ],
      "text/plain": [
       "   loan_amnt  funded_amnt      term  installment     grade  sub_grade  \\\n",
       "0  -0.821731    -0.814569 -0.590645    -0.764644 -0.466389  -0.622967   \n",
       "1  -1.159074    -1.164374  1.693064    -1.257836  0.228822   0.366964   \n",
       "2  -1.172567    -1.178366 -0.590645    -1.140569  0.228822   0.508382   \n",
       "3  -0.147044    -0.114958 -0.590645     0.079871  0.228822  -0.057292   \n",
       "4  -1.091605    -1.094413  1.693064    -1.219736 -0.466389  -0.198711   \n",
       "\n",
       "   emp_length  annual_inc   issue_d       dti  ...  purpose_home_improvement  \\\n",
       "0    1.442745   -1.412142  0.795288  2.122578  ...                 -0.285175   \n",
       "1   -1.328770   -1.170964  0.795288 -1.839520  ...                 -0.285175   \n",
       "2    1.442745   -1.884367  0.795288 -0.691775  ...                 -0.285175   \n",
       "3    1.442745   -0.399197  0.795288  0.985240  ...                 -0.285175   \n",
       "4   -1.051618    0.838846  0.795288  0.678977  ...                 -0.285175   \n",
       "\n",
       "   purpose_house  purpose_major_purchase  purpose_medical  purpose_moving  \\\n",
       "0      -0.100581               -0.239694        -0.134246       -0.122514   \n",
       "1      -0.100581               -0.239694        -0.134246       -0.122514   \n",
       "2      -0.100581               -0.239694        -0.134246       -0.122514   \n",
       "3      -0.100581               -0.239694        -0.134246       -0.122514   \n",
       "4      -0.100581               -0.239694        -0.134246       -0.122514   \n",
       "\n",
       "   purpose_other  purpose_renewable_energy  purpose_small_business  \\\n",
       "0      -0.340751                 -0.049983                -0.22166   \n",
       "1      -0.340751                 -0.049983                -0.22166   \n",
       "2      -0.340751                 -0.049983                 4.51142   \n",
       "3       2.934694                 -0.049983                -0.22166   \n",
       "4       2.934694                 -0.049983                -0.22166   \n",
       "\n",
       "   purpose_vacation  purpose_wedding  \n",
       "0         -0.097434        -0.155482  \n",
       "1         -0.097434        -0.155482  \n",
       "2         -0.097434        -0.155482  \n",
       "3         -0.097434        -0.155482  \n",
       "4         -0.097434        -0.155482  \n",
       "\n",
       "[5 rows x 52 columns]"
      ]
     },
     "execution_count": 7,
     "metadata": {},
     "output_type": "execute_result"
    }
   ],
   "source": [
    "scaled_data.head()"
   ]
  },
  {
   "cell_type": "code",
   "execution_count": 9,
   "metadata": {},
   "outputs": [
    {
     "data": {
      "image/png": "[encoded data removed]",
      "text/plain": [
       "<Figure size 504x360 with 1 Axes>"
      ]
     },
     "metadata": {
      "needs_background": "light"
     },
     "output_type": "display_data"
    }
   ],
   "source": [
    "# PCA graph\n",
    "pca = PCA().fit(X_scaled)\n",
    "plt.plot(np.cumsum(pca.explained_variance_ratio_))\n",
    "plt.vlines(x=40, ymax=1, ymin=0, colors=\"r\", linestyles=\"--\")\n",
    "plt.hlines(y=0.95, xmax=60, xmin=0, colors=\"g\", linestyles=\"--\")\n",
    "plt.ylabel('Cumulative explained variance')\n",
    "plt.gcf().set_size_inches(7, 5)"
   ]
  },
  {
   "cell_type": "code",
   "execution_count": 10,
   "metadata": {},
   "outputs": [
    {
     "data": {
      "text/html": [
       "<div>\n",
       "<style scoped>\n",
       "    .dataframe tbody tr th:only-of-type {\n",
       "        vertical-align: middle;\n",
       "    }\n",
       "\n",
       "    .dataframe tbody tr th {\n",
       "        vertical-align: top;\n",
       "    }\n",
       "\n",
       "    .dataframe thead th {\n",
       "        text-align: right;\n",
       "    }\n",
       "</style>\n",
       "<table border=\"1\" class=\"dataframe\">\n",
       "  <thead>\n",
       "    <tr style=\"text-align: right;\">\n",
       "      <th></th>\n",
       "      <th>PC1</th>\n",
       "      <th>PC2</th>\n",
       "    </tr>\n",
       "  </thead>\n",
       "  <tbody>\n",
       "    <tr>\n",
       "      <th>0</th>\n",
       "      <td>0.370981</td>\n",
       "      <td>0.018863</td>\n",
       "    </tr>\n",
       "    <tr>\n",
       "      <th>1</th>\n",
       "      <td>0.369763</td>\n",
       "      <td>0.021014</td>\n",
       "    </tr>\n",
       "    <tr>\n",
       "      <th>2</th>\n",
       "      <td>0.165460</td>\n",
       "      <td>0.093744</td>\n",
       "    </tr>\n",
       "    <tr>\n",
       "      <th>3</th>\n",
       "      <td>0.346406</td>\n",
       "      <td>0.033180</td>\n",
       "    </tr>\n",
       "    <tr>\n",
       "      <th>4</th>\n",
       "      <td>0.123031</td>\n",
       "      <td>0.426796</td>\n",
       "    </tr>\n",
       "  </tbody>\n",
       "</table>\n",
       "</div>"
      ],
      "text/plain": [
       "        PC1       PC2\n",
       "0  0.370981  0.018863\n",
       "1  0.369763  0.021014\n",
       "2  0.165460  0.093744\n",
       "3  0.346406  0.033180\n",
       "4  0.123031  0.426796"
      ]
     },
     "execution_count": 10,
     "metadata": {},
     "output_type": "execute_result"
    }
   ],
   "source": [
    "from sklearn.decomposition import IncrementalPCA\n",
    "\n",
    "pca = IncrementalPCA(n_components = 40)\n",
    "colnames = list(scaled_data.columns)\n",
    "loan_main_dummies_pca = pca.fit_transform(X_scaled)\n",
    "loan_main_dummies_pca_df = pd.DataFrame({'PC1':pca.components_[0],'PC2':pca.components_[1]})\n",
    "loan_main_dummies_pca_df.head()"
   ]
  },
  {
   "cell_type": "code",
   "execution_count": 12,
   "metadata": {},
   "outputs": [
    {
     "name": "stdout",
     "output_type": "stream",
     "text": [
      "(42535, 52)\n",
      "(42535, 40)\n"
     ]
    }
   ],
   "source": [
    "print(X.shape)\n",
    "print(loan_main_dummies_pca.shape)"
   ]
  },
  {
   "cell_type": "code",
   "execution_count": 13,
   "metadata": {},
   "outputs": [],
   "source": [
    "X_train, X_test, y_train, y_test = train_test_split(loan_main_dummies_pca, y, test_size=0.3, random_state=0)"
   ]
  },
  {
   "cell_type": "markdown",
   "metadata": {},
   "source": [
    "#### Ada Boosting Classifier KFold PCA"
   ]
  },
  {
   "cell_type": "code",
   "execution_count": 14,
   "metadata": {},
   "outputs": [
    {
     "data": {
      "text/plain": [
       "0.8465637489224982"
      ]
     },
     "execution_count": 14,
     "metadata": {},
     "output_type": "execute_result"
    }
   ],
   "source": [
    "model_AB_pca = AdaBoostClassifier(random_state=1)\n",
    "model_AB_pca.fit(X_train, y_train)\n",
    "model_AB_pca.score(X_test,y_test)"
   ]
  },
  {
   "cell_type": "code",
   "execution_count": 15,
   "metadata": {},
   "outputs": [],
   "source": [
    "num_folds = 10\n",
    "kfold = KFold(n_splits=num_folds, shuffle=True, random_state = 77)\n",
    "resultsAB_pca = cross_val_score(model_AB_pca,X, y, cv=kfold)\n",
    "acc_KF_AB_pca = np.mean(abs(resultsAB_pca))\n",
    "AUROC_KF_AB_pca = np.mean(abs(cross_val_score(model_AB_pca, X, y, scoring='roc_auc', cv=10)))"
   ]
  },
  {
   "cell_type": "code",
   "execution_count": 16,
   "metadata": {},
   "outputs": [
    {
     "data": {
      "text/html": [
       "<div>\n",
       "<style scoped>\n",
       "    .dataframe tbody tr th:only-of-type {\n",
       "        vertical-align: middle;\n",
       "    }\n",
       "\n",
       "    .dataframe tbody tr th {\n",
       "        vertical-align: top;\n",
       "    }\n",
       "\n",
       "    .dataframe thead th {\n",
       "        text-align: right;\n",
       "    }\n",
       "</style>\n",
       "<table border=\"1\" class=\"dataframe\">\n",
       "  <thead>\n",
       "    <tr style=\"text-align: right;\">\n",
       "      <th></th>\n",
       "      <th>Model</th>\n",
       "      <th>Accuracy</th>\n",
       "      <th>AUROC</th>\n",
       "    </tr>\n",
       "  </thead>\n",
       "  <tbody>\n",
       "    <tr>\n",
       "      <th>1</th>\n",
       "      <td>AdaBoost Classifier KFold PCA</td>\n",
       "      <td>0.881086</td>\n",
       "      <td>0.903117</td>\n",
       "    </tr>\n",
       "  </tbody>\n",
       "</table>\n",
       "</div>"
      ],
      "text/plain": [
       "                           Model  Accuracy     AUROC\n",
       "1  AdaBoost Classifier KFold PCA  0.881086  0.903117"
      ]
     },
     "execution_count": 16,
     "metadata": {},
     "output_type": "execute_result"
    }
   ],
   "source": [
    "results = pd.DataFrame({'Model':['AdaBoost Classifier KFold PCA'], 'Accuracy': acc_KF_AB_pca, 'AUROC': AUROC_KF_AB_pca},index={'1'})\n",
    "results = results[['Model', 'Accuracy', 'AUROC']]\n",
    "results"
   ]
  },
  {
   "cell_type": "markdown",
   "metadata": {},
   "source": [
    "#### Random Forest KFold PCA"
   ]
  },
  {
   "cell_type": "code",
   "execution_count": 18,
   "metadata": {},
   "outputs": [
    {
     "data": {
      "text/plain": [
       "0.851187211033618"
      ]
     },
     "execution_count": 18,
     "metadata": {},
     "output_type": "execute_result"
    }
   ],
   "source": [
    "model_RF_pca = RandomForestClassifier(n_estimators=100)\n",
    "model_RF_pca.fit(X_train, y_train)\n",
    "model_RF_pca.score(X_test, y_test)"
   ]
  },
  {
   "cell_type": "code",
   "execution_count": 19,
   "metadata": {},
   "outputs": [],
   "source": [
    "num_folds = 10\n",
    "kfold = KFold(n_splits=num_folds, shuffle=True, random_state = 77)\n",
    "resultsRF_pca = cross_val_score(model_RF_pca,X, y, cv=kfold)\n",
    "acc_KF_RF_pca = np.mean(abs(resultsRF_pca))\n",
    "AUROC_KF_RF_pca = np.mean(abs(cross_val_score(model_RF_pca, X, y, scoring='roc_auc', cv=10)))"
   ]
  },
  {
   "cell_type": "code",
   "execution_count": 20,
   "metadata": {},
   "outputs": [
    {
     "data": {
      "text/html": [
       "<div>\n",
       "<style scoped>\n",
       "    .dataframe tbody tr th:only-of-type {\n",
       "        vertical-align: middle;\n",
       "    }\n",
       "\n",
       "    .dataframe tbody tr th {\n",
       "        vertical-align: top;\n",
       "    }\n",
       "\n",
       "    .dataframe thead th {\n",
       "        text-align: right;\n",
       "    }\n",
       "</style>\n",
       "<table border=\"1\" class=\"dataframe\">\n",
       "  <thead>\n",
       "    <tr style=\"text-align: right;\">\n",
       "      <th></th>\n",
       "      <th>Model</th>\n",
       "      <th>Accuracy</th>\n",
       "      <th>AUROC</th>\n",
       "    </tr>\n",
       "  </thead>\n",
       "  <tbody>\n",
       "    <tr>\n",
       "      <th>1</th>\n",
       "      <td>AdaBoost Classifier KFold PCA</td>\n",
       "      <td>0.881086</td>\n",
       "      <td>0.903117</td>\n",
       "    </tr>\n",
       "    <tr>\n",
       "      <th>2</th>\n",
       "      <td>RandomForest KFold PCA</td>\n",
       "      <td>0.882708</td>\n",
       "      <td>0.901003</td>\n",
       "    </tr>\n",
       "  </tbody>\n",
       "</table>\n",
       "</div>"
      ],
      "text/plain": [
       "                           Model  Accuracy     AUROC\n",
       "1  AdaBoost Classifier KFold PCA  0.881086  0.903117\n",
       "2         RandomForest KFold PCA  0.882708  0.901003"
      ]
     },
     "execution_count": 20,
     "metadata": {},
     "output_type": "execute_result"
    }
   ],
   "source": [
    "tempResultsDf = pd.DataFrame({'Model':['RandomForest KFold PCA'], 'Accuracy': [acc_KF_RF_pca],  'AUROC': AUROC_KF_RF_pca}, index={'2'})\n",
    "results = pd.concat([results, tempResultsDf])\n",
    "results = results[['Model', 'Accuracy', 'AUROC']]\n",
    "results"
   ]
  },
  {
   "cell_type": "markdown",
   "metadata": {},
   "source": [
    "#### Logistic Regression KFold PCA"
   ]
  },
  {
   "cell_type": "code",
   "execution_count": 21,
   "metadata": {},
   "outputs": [
    {
     "data": {
      "text/plain": [
       "0.8553404905571663"
      ]
     },
     "execution_count": 21,
     "metadata": {},
     "output_type": "execute_result"
    }
   ],
   "source": [
    "model_LR_pca = LogisticRegression(max_iter=10000)\n",
    "model_LR_pca.fit(X_train, y_train)\n",
    "model_LR_pca.score(X_test,y_test)"
   ]
  },
  {
   "cell_type": "code",
   "execution_count": 22,
   "metadata": {},
   "outputs": [],
   "source": [
    "num_folds = 10\n",
    "kfold = KFold(n_splits=num_folds, shuffle=True, random_state = 77)\n",
    "resultsLR_pca = cross_val_score(model_LR_pca,X, y, cv=kfold)\n",
    "acc_KF_LR_pca=np.mean(abs(resultsLR_pca))\n",
    "AUROC_KF_LR_pca = np.mean(abs(cross_val_score(model_LR_pca, X, y, scoring='roc_auc', cv=10)))"
   ]
  },
  {
   "cell_type": "code",
   "execution_count": 23,
   "metadata": {},
   "outputs": [
    {
     "data": {
      "text/html": [
       "<div>\n",
       "<style scoped>\n",
       "    .dataframe tbody tr th:only-of-type {\n",
       "        vertical-align: middle;\n",
       "    }\n",
       "\n",
       "    .dataframe tbody tr th {\n",
       "        vertical-align: top;\n",
       "    }\n",
       "\n",
       "    .dataframe thead th {\n",
       "        text-align: right;\n",
       "    }\n",
       "</style>\n",
       "<table border=\"1\" class=\"dataframe\">\n",
       "  <thead>\n",
       "    <tr style=\"text-align: right;\">\n",
       "      <th></th>\n",
       "      <th>Model</th>\n",
       "      <th>Accuracy</th>\n",
       "      <th>AUROC</th>\n",
       "    </tr>\n",
       "  </thead>\n",
       "  <tbody>\n",
       "    <tr>\n",
       "      <th>1</th>\n",
       "      <td>AdaBoost Classifier KFold PCA</td>\n",
       "      <td>0.881086</td>\n",
       "      <td>0.903117</td>\n",
       "    </tr>\n",
       "    <tr>\n",
       "      <th>2</th>\n",
       "      <td>RandomForest KFold PCA</td>\n",
       "      <td>0.882708</td>\n",
       "      <td>0.901003</td>\n",
       "    </tr>\n",
       "    <tr>\n",
       "      <th>3</th>\n",
       "      <td>Logistic Regression KFold PCA</td>\n",
       "      <td>0.857576</td>\n",
       "      <td>0.856344</td>\n",
       "    </tr>\n",
       "  </tbody>\n",
       "</table>\n",
       "</div>"
      ],
      "text/plain": [
       "                           Model  Accuracy     AUROC\n",
       "1  AdaBoost Classifier KFold PCA  0.881086  0.903117\n",
       "2         RandomForest KFold PCA  0.882708  0.901003\n",
       "3  Logistic Regression KFold PCA  0.857576  0.856344"
      ]
     },
     "execution_count": 23,
     "metadata": {},
     "output_type": "execute_result"
    }
   ],
   "source": [
    "tempResultsDf  = pd.DataFrame({'Model':['Logistic Regression KFold PCA'], 'Accuracy': [acc_KF_LR_pca], 'AUROC': AUROC_KF_LR_pca},index={'3'})\n",
    "results = pd.concat([results, tempResultsDf ])\n",
    "results = results[['Model', 'Accuracy', 'AUROC']]\n",
    "results"
   ]
  },
  {
   "cell_type": "markdown",
   "metadata": {},
   "source": [
    "#### Gradient Boost Classifier KFold PCA"
   ]
  },
  {
   "cell_type": "code",
   "execution_count": 24,
   "metadata": {},
   "outputs": [
    {
     "data": {
      "text/plain": [
       "0.847739205391427"
      ]
     },
     "execution_count": 24,
     "metadata": {},
     "output_type": "execute_result"
    }
   ],
   "source": [
    "model_GB_pca= GradientBoostingClassifier(learning_rate=0.01, random_state=1)\n",
    "model_GB_pca.fit(X_train, y_train)\n",
    "model_GB_pca.score(X_test,y_test)"
   ]
  },
  {
   "cell_type": "code",
   "execution_count": 25,
   "metadata": {},
   "outputs": [],
   "source": [
    "num_folds = 10\n",
    "kfold = KFold(n_splits=num_folds, shuffle=True, random_state = 77)\n",
    "resultsGB_pca = cross_val_score(model_GB_pca,X, y, cv=kfold)\n",
    "acc_KF_GB_pca =np.mean(abs(resultsGB_pca))\n",
    "AUROC_KF_GB_pca = np.mean(abs(cross_val_score(model_GB_pca, X, y, scoring='roc_auc', cv=10)))"
   ]
  },
  {
   "cell_type": "code",
   "execution_count": 26,
   "metadata": {},
   "outputs": [
    {
     "data": {
      "text/html": [
       "<div>\n",
       "<style scoped>\n",
       "    .dataframe tbody tr th:only-of-type {\n",
       "        vertical-align: middle;\n",
       "    }\n",
       "\n",
       "    .dataframe tbody tr th {\n",
       "        vertical-align: top;\n",
       "    }\n",
       "\n",
       "    .dataframe thead th {\n",
       "        text-align: right;\n",
       "    }\n",
       "</style>\n",
       "<table border=\"1\" class=\"dataframe\">\n",
       "  <thead>\n",
       "    <tr style=\"text-align: right;\">\n",
       "      <th></th>\n",
       "      <th>Model</th>\n",
       "      <th>Accuracy</th>\n",
       "      <th>AUROC</th>\n",
       "    </tr>\n",
       "  </thead>\n",
       "  <tbody>\n",
       "    <tr>\n",
       "      <th>1</th>\n",
       "      <td>AdaBoost Classifier KFold PCA</td>\n",
       "      <td>0.881086</td>\n",
       "      <td>0.903117</td>\n",
       "    </tr>\n",
       "    <tr>\n",
       "      <th>2</th>\n",
       "      <td>RandomForest KFold PCA</td>\n",
       "      <td>0.882708</td>\n",
       "      <td>0.901003</td>\n",
       "    </tr>\n",
       "    <tr>\n",
       "      <th>3</th>\n",
       "      <td>Logistic Regression KFold PCA</td>\n",
       "      <td>0.857576</td>\n",
       "      <td>0.856344</td>\n",
       "    </tr>\n",
       "    <tr>\n",
       "      <th>4</th>\n",
       "      <td>Gradient Boosting KFold PCA</td>\n",
       "      <td>0.849747</td>\n",
       "      <td>0.850584</td>\n",
       "    </tr>\n",
       "  </tbody>\n",
       "</table>\n",
       "</div>"
      ],
      "text/plain": [
       "                           Model  Accuracy     AUROC\n",
       "1  AdaBoost Classifier KFold PCA  0.881086  0.903117\n",
       "2         RandomForest KFold PCA  0.882708  0.901003\n",
       "3  Logistic Regression KFold PCA  0.857576  0.856344\n",
       "4    Gradient Boosting KFold PCA  0.849747  0.850584"
      ]
     },
     "execution_count": 26,
     "metadata": {},
     "output_type": "execute_result"
    }
   ],
   "source": [
    "tempResultsDf = pd.DataFrame({'Model':['Gradient Boosting KFold PCA'], 'Accuracy': [acc_KF_GB_pca], 'AUROC': AUROC_KF_GB_pca}, index={'4'})\n",
    "results = pd.concat([results, tempResultsDf])\n",
    "results = results[['Model', 'Accuracy', 'AUROC']]\n",
    "results"
   ]
  },
  {
   "cell_type": "markdown",
   "metadata": {},
   "source": [
    "#### Ada Boosting Classifier PCA"
   ]
  },
  {
   "cell_type": "code",
   "execution_count": 45,
   "metadata": {},
   "outputs": [
    {
     "data": {
      "text/plain": [
       "0.8465637489224982"
      ]
     },
     "execution_count": 45,
     "metadata": {},
     "output_type": "execute_result"
    }
   ],
   "source": [
    "model_AB_pca = AdaBoostClassifier(random_state=1)\n",
    "model_AB_pca.fit(X_train, y_train)\n",
    "model_AB_pca.score(X_test,y_test)"
   ]
  },
  {
   "cell_type": "code",
   "execution_count": 65,
   "metadata": {},
   "outputs": [
    {
     "name": "stdout",
     "output_type": "stream",
     "text": [
      "Performance on training data using AdaBoosting Classifier after PCA: 0.8588701551689394\n",
      "Performance on testing data using AdaBoosting after PCA: 0.8465637489224982\n"
     ]
    }
   ],
   "source": [
    "prediction_AB = model_AB_pca.predict(X_test)\n",
    "print('Performance on training data using AdaBoosting Classifier after PCA:',model_AB_pca.score(X_train,y_train))\n",
    "print('Performance on testing data using AdaBoosting after PCA:',model_AB_pca.score(X_test,y_test))\n",
    "acc_AB = accuracy_score(y_test, prediction_AB)\n",
    "recall_AB = recall_score(y_test, prediction_AB)\n",
    "precision_AB = precision_score(y_test, prediction_AB)\n",
    "f1_AB = f1_score(y_test, prediction_AB)\n",
    "AUROC_AB = roc_auc_score(y_test, prediction_AB)"
   ]
  },
  {
   "cell_type": "code",
   "execution_count": 66,
   "metadata": {},
   "outputs": [
    {
     "data": {
      "text/plain": [
       "array([[  339,  1639],\n",
       "       [  319, 10464]])"
      ]
     },
     "execution_count": 66,
     "metadata": {},
     "output_type": "execute_result"
    }
   ],
   "source": [
    "confusion_matrix(y_test, prediction_AB)"
   ]
  },
  {
   "cell_type": "code",
   "execution_count": 68,
   "metadata": {},
   "outputs": [
    {
     "data": {
      "text/html": [
       "<div>\n",
       "<style scoped>\n",
       "    .dataframe tbody tr th:only-of-type {\n",
       "        vertical-align: middle;\n",
       "    }\n",
       "\n",
       "    .dataframe tbody tr th {\n",
       "        vertical-align: top;\n",
       "    }\n",
       "\n",
       "    .dataframe thead th {\n",
       "        text-align: right;\n",
       "    }\n",
       "</style>\n",
       "<table border=\"1\" class=\"dataframe\">\n",
       "  <thead>\n",
       "    <tr style=\"text-align: right;\">\n",
       "      <th></th>\n",
       "      <th>Model</th>\n",
       "      <th>Accuracy</th>\n",
       "      <th>AUROC</th>\n",
       "    </tr>\n",
       "  </thead>\n",
       "  <tbody>\n",
       "    <tr>\n",
       "      <th>1</th>\n",
       "      <td>AdaBoost Classifier KFold PCA</td>\n",
       "      <td>0.881086</td>\n",
       "      <td>0.903117</td>\n",
       "    </tr>\n",
       "    <tr>\n",
       "      <th>2</th>\n",
       "      <td>RandomForest KFold PCA</td>\n",
       "      <td>0.882708</td>\n",
       "      <td>0.901003</td>\n",
       "    </tr>\n",
       "    <tr>\n",
       "      <th>3</th>\n",
       "      <td>Logistic Regression KFold PCA</td>\n",
       "      <td>0.857576</td>\n",
       "      <td>0.856344</td>\n",
       "    </tr>\n",
       "    <tr>\n",
       "      <th>4</th>\n",
       "      <td>Gradient Boosting KFold PCA</td>\n",
       "      <td>0.849747</td>\n",
       "      <td>0.850584</td>\n",
       "    </tr>\n",
       "    <tr>\n",
       "      <th>5</th>\n",
       "      <td>AdaBoost Classifier PCA</td>\n",
       "      <td>0.846564</td>\n",
       "      <td>0.570901</td>\n",
       "    </tr>\n",
       "    <tr>\n",
       "      <th>5</th>\n",
       "      <td>AdaBoost Classifier PCA</td>\n",
       "      <td>0.846564</td>\n",
       "      <td>0.570901</td>\n",
       "    </tr>\n",
       "  </tbody>\n",
       "</table>\n",
       "</div>"
      ],
      "text/plain": [
       "                           Model  Accuracy     AUROC\n",
       "1  AdaBoost Classifier KFold PCA  0.881086  0.903117\n",
       "2         RandomForest KFold PCA  0.882708  0.901003\n",
       "3  Logistic Regression KFold PCA  0.857576  0.856344\n",
       "4    Gradient Boosting KFold PCA  0.849747  0.850584\n",
       "5        AdaBoost Classifier PCA  0.846564  0.570901\n",
       "5        AdaBoost Classifier PCA  0.846564  0.570901"
      ]
     },
     "execution_count": 68,
     "metadata": {},
     "output_type": "execute_result"
    }
   ],
   "source": [
    "tempResultsDf= pd.DataFrame({'Model':['AdaBoost Classifier PCA'], 'Accuracy': [acc_AB], 'AUROC': AUROC_AB}, index={'5'})\n",
    "results = pd.concat([results, tempResultsDf])\n",
    "results = results[['Model', 'Accuracy', 'AUROC']]\n",
    "results"
   ]
  },
  {
   "cell_type": "code",
   "execution_count": 70,
   "metadata": {},
   "outputs": [],
   "source": [
    "results_pca = results"
   ]
  },
  {
   "cell_type": "code",
   "execution_count": 71,
   "metadata": {},
   "outputs": [
    {
     "data": {
      "text/html": [
       "<div>\n",
       "<style scoped>\n",
       "    .dataframe tbody tr th:only-of-type {\n",
       "        vertical-align: middle;\n",
       "    }\n",
       "\n",
       "    .dataframe tbody tr th {\n",
       "        vertical-align: top;\n",
       "    }\n",
       "\n",
       "    .dataframe thead th {\n",
       "        text-align: right;\n",
       "    }\n",
       "</style>\n",
       "<table border=\"1\" class=\"dataframe\">\n",
       "  <thead>\n",
       "    <tr style=\"text-align: right;\">\n",
       "      <th></th>\n",
       "      <th>Model</th>\n",
       "      <th>Accuracy</th>\n",
       "      <th>AUROC</th>\n",
       "    </tr>\n",
       "  </thead>\n",
       "  <tbody>\n",
       "    <tr>\n",
       "      <th>5</th>\n",
       "      <td>AdaBoost Classifier PCA</td>\n",
       "      <td>0.846564</td>\n",
       "      <td>0.570901</td>\n",
       "    </tr>\n",
       "    <tr>\n",
       "      <th>5</th>\n",
       "      <td>AdaBoost Classifier PCA</td>\n",
       "      <td>0.846564</td>\n",
       "      <td>0.570901</td>\n",
       "    </tr>\n",
       "    <tr>\n",
       "      <th>4</th>\n",
       "      <td>Gradient Boosting KFold PCA</td>\n",
       "      <td>0.849747</td>\n",
       "      <td>0.850584</td>\n",
       "    </tr>\n",
       "    <tr>\n",
       "      <th>3</th>\n",
       "      <td>Logistic Regression KFold PCA</td>\n",
       "      <td>0.857576</td>\n",
       "      <td>0.856344</td>\n",
       "    </tr>\n",
       "    <tr>\n",
       "      <th>2</th>\n",
       "      <td>RandomForest KFold PCA</td>\n",
       "      <td>0.882708</td>\n",
       "      <td>0.901003</td>\n",
       "    </tr>\n",
       "    <tr>\n",
       "      <th>1</th>\n",
       "      <td>AdaBoost Classifier KFold PCA</td>\n",
       "      <td>0.881086</td>\n",
       "      <td>0.903117</td>\n",
       "    </tr>\n",
       "  </tbody>\n",
       "</table>\n",
       "</div>"
      ],
      "text/plain": [
       "                           Model  Accuracy     AUROC\n",
       "5        AdaBoost Classifier PCA  0.846564  0.570901\n",
       "5        AdaBoost Classifier PCA  0.846564  0.570901\n",
       "4    Gradient Boosting KFold PCA  0.849747  0.850584\n",
       "3  Logistic Regression KFold PCA  0.857576  0.856344\n",
       "2         RandomForest KFold PCA  0.882708  0.901003\n",
       "1  AdaBoost Classifier KFold PCA  0.881086  0.903117"
      ]
     },
     "execution_count": 71,
     "metadata": {},
     "output_type": "execute_result"
    }
   ],
   "source": [
    "results_pca.sort_values('AUROC')"
   ]
  },
  {
   "cell_type": "markdown",
   "metadata": {},
   "source": [
    "- After implementing PCA the highest AUROC is obtained for Ada Boost Classifier after KFold (AUROC = 0.903).\n",
    "- Second strongest model is Random Forest after KFold.\n",
    "- Logistic Regression after KFold was the third best model, then GradientBoost after KFold.\n",
    "- The weakest performance was observed for AdaBoost Classifier."
   ]
  },
  {
   "cell_type": "markdown",
   "metadata": {},
   "source": [
    "#### Model comparison (before and after PCA)"
   ]
  },
  {
   "cell_type": "markdown",
   "metadata": {},
   "source": [
    "After PCA implementation:\n",
    "\n",
    "1. AdaBoost KFold no improvement on accuracy and AUROC.\n",
    "2. Random Forest KFold slighlty improved on AUROC (from AUC=0.89 to 0.90).\n",
    "3. Logistic Regression KFold no improvement on accuracy and AUROC.\n",
    "4. Gradient Boosting KFold no improvement on accuracy and AUROC.\n",
    "5. AdaBoost Classifier achieved lower AUROC score.\n",
    "\n",
    "Based on this, Random Forest KFold model was selected for final analysis."
   ]
  },
  {
   "cell_type": "code",
   "execution_count": null,
   "metadata": {},
   "outputs": [],
   "source": []
  }
 ],
 "metadata": {
  "kernelspec": {
   "display_name": "Python 3",
   "language": "python",
   "name": "python3"
  },
  "language_info": {
   "codemirror_mode": {
    "name": "ipython",
    "version": 3
   },
   "file_extension": ".py",
   "mimetype": "text/x-python",
   "name": "python",
   "nbconvert_exporter": "python",
   "pygments_lexer": "ipython3",
   "version": "3.8.3"
  }
 },
 "nbformat": 4,
 "nbformat_minor": 4
}
